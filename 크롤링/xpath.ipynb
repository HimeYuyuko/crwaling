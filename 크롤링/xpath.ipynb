{
 "cells": [
  {
   "cell_type": "markdown",
   "id": "86f19589-b1b2-40ab-a7a3-f5a34e7808d8",
   "metadata": {},
   "source": [
    "### xpath\n",
    "- html element 선택 방법\n",
    "- scrapy 에서 기본적으로 사용하는 selector\n",
    "- scrapy: 파이썬 코드로 웹페이지의 데이터를 수집하는 프레임워크"
   ]
  },
  {
   "cell_type": "code",
   "execution_count": 3,
   "id": "efa56a7a-230c-44fe-a284-aa4af7dcdf92",
   "metadata": {},
   "outputs": [],
   "source": [
    "import scrapy, requests\n",
    "from scrapy.http import TextResponse"
   ]
  },
  {
   "cell_type": "code",
   "execution_count": 4,
   "id": "8d0a4402-4641-41f8-bc21-e97bd9f69388",
   "metadata": {},
   "outputs": [
    {
     "data": {
      "text/plain": [
       "'http://search.naver.com/search.naver?query=kt'"
      ]
     },
     "execution_count": 4,
     "metadata": {},
     "output_type": "execute_result"
    }
   ],
   "source": [
    "query = 'kt'\n",
    "url = f'http://search.naver.com/search.naver?query={query}'\n",
    "url"
   ]
  },
  {
   "cell_type": "code",
   "execution_count": 7,
   "id": "056b9507-12dd-49cb-a9cb-6a36d73d3be1",
   "metadata": {},
   "outputs": [],
   "source": [
    "response = requests.get(url)\n",
    "dom = TextResponse(response.url,body=response.text,encoding='utf-8')"
   ]
  },
  {
   "cell_type": "code",
   "execution_count": null,
   "id": "d1286d33-d09d-45e2-9a33-df34658e6544",
   "metadata": {},
   "outputs": [],
   "source": [
    "# xpath syntax\n",
    "# //*[@id=\"nx_footer_related_keywords\"]/div/div[2]/ul/li[1]/a/div\n",
    "#//: 최상위 엘리먼트\n",
    "# *: 모든 하위 엘리먼트:css selector(.wrap p)\n",
    "#[@id=\"nx_footer_related_keywords\"]: 속성값으로 엘리먼트 선택\n",
    "#/: 한단계 하위 엘리먼트: css Selecotr(.wrap>p)\n",
    "# [n]: n번쨰 엘리먼트"
   ]
  },
  {
   "cell_type": "code",
   "execution_count": 8,
   "id": "5b5b841f-90b0-46e8-826a-10824598058b",
   "metadata": {},
   "outputs": [
    {
     "data": {
      "text/plain": [
       "[<Selector xpath='//*[@id=\"nx_footer_related_keywords\"]/div/div[2]/ul/li[1]/a/div' data='<div class=\"tit\">삼성전자</div>'>]"
      ]
     },
     "execution_count": 8,
     "metadata": {},
     "output_type": "execute_result"
    }
   ],
   "source": [
    "dom.xpath('//*[@id=\"nx_footer_related_keywords\"]/div/div[2]/ul/li[1]/a/div')"
   ]
  },
  {
   "cell_type": "code",
   "execution_count": 10,
   "id": "fb9f8cd2-a60e-4ae3-96e0-849de58367b9",
   "metadata": {},
   "outputs": [
    {
     "data": {
      "text/plain": [
       "[<Selector xpath='//*[@id=\"nx_footer_related_keywords\"]/div/div[2]/ul/li/a/div' data='<div class=\"tit\">삼성전자</div>'>,\n",
       " <Selector xpath='//*[@id=\"nx_footer_related_keywords\"]/div/div[2]/ul/li/a/div' data='<div class=\"tit\">kt 고객센터</div>'>]"
      ]
     },
     "execution_count": 10,
     "metadata": {},
     "output_type": "execute_result"
    }
   ],
   "source": [
    "dom.xpath('//*[@id=\"nx_footer_related_keywords\"]/div/div[2]/ul/li/a/div')[:2]"
   ]
  },
  {
   "cell_type": "code",
   "execution_count": 15,
   "id": "77844424-2e97-44b2-a784-8aabef0cdc55",
   "metadata": {},
   "outputs": [
    {
     "name": "stdout",
     "output_type": "stream",
     "text": [
      "['삼성전자', 'kt 고객센터', 'kt 인터넷', 'ky', '환율', 'kt 대리점', 'kr', '날씨', 'SKT', 'kt 고객센터 전화번호']\n"
     ]
    }
   ],
   "source": [
    "#text 수집\n",
    "keywords= dom.xpath('//*[@id=\"nx_footer_related_keywords\"]/div/div[2]/ul/li/a/div/text()').extract()\n",
    "print(keywords)"
   ]
  },
  {
   "cell_type": "code",
   "execution_count": null,
   "id": "0cc816f0-d1c8-4d49-855d-2a55fcd0b306",
   "metadata": {},
   "outputs": [],
   "source": [
    "# selenium 에서의 xpath는 for을 사용해서 데이터를 수집"
   ]
  },
  {
   "cell_type": "code",
   "execution_count": null,
   "id": "1a7a2fa3-94be-4cd9-8767-7d6309a37688",
   "metadata": {},
   "outputs": [],
   "source": []
  },
  {
   "cell_type": "code",
   "execution_count": null,
   "id": "10e90e05-8c96-4b09-ab22-e85aaa66a16d",
   "metadata": {},
   "outputs": [],
   "source": []
  },
  {
   "cell_type": "code",
   "execution_count": null,
   "id": "e4ea2b81-e323-46bd-b54c-c9eef6ad7a95",
   "metadata": {},
   "outputs": [],
   "source": []
  },
  {
   "cell_type": "code",
   "execution_count": null,
   "id": "db0bc4ef-3091-480e-bc5a-1bbfccf24bcb",
   "metadata": {},
   "outputs": [],
   "source": []
  },
  {
   "cell_type": "code",
   "execution_count": null,
   "id": "3c3f41e6-25a1-4d78-a1d8-9be5771a287b",
   "metadata": {},
   "outputs": [],
   "source": []
  },
  {
   "cell_type": "code",
   "execution_count": null,
   "id": "c4856874-426b-4548-9626-bb9cc581c230",
   "metadata": {},
   "outputs": [],
   "source": []
  },
  {
   "cell_type": "code",
   "execution_count": null,
   "id": "5826fdc9-26ab-42a9-b967-15c455d90d4d",
   "metadata": {},
   "outputs": [],
   "source": []
  },
  {
   "cell_type": "code",
   "execution_count": null,
   "id": "19aefa22-e5ba-4535-a9ef-135eff3bd83f",
   "metadata": {},
   "outputs": [],
   "source": []
  },
  {
   "cell_type": "code",
   "execution_count": null,
   "id": "9628eda4-7035-4a86-9b35-e1e7c4666038",
   "metadata": {},
   "outputs": [],
   "source": []
  },
  {
   "cell_type": "code",
   "execution_count": null,
   "id": "cce1b16c-4745-497a-b565-9b4360a88474",
   "metadata": {},
   "outputs": [],
   "source": []
  },
  {
   "cell_type": "code",
   "execution_count": null,
   "id": "c9723c1b-960a-4896-80ac-399e0c36ba25",
   "metadata": {},
   "outputs": [],
   "source": []
  }
 ],
 "metadata": {
  "kernelspec": {
   "display_name": "Python 3",
   "language": "python",
   "name": "python3"
  },
  "language_info": {
   "codemirror_mode": {
    "name": "ipython",
    "version": 3
   },
   "file_extension": ".py",
   "mimetype": "text/x-python",
   "name": "python",
   "nbconvert_exporter": "python",
   "pygments_lexer": "ipython3",
   "version": "3.8.8"
  }
 },
 "nbformat": 4,
 "nbformat_minor": 5
}
