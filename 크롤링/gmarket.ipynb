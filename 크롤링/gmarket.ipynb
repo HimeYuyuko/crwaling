{
 "cells": [
  {
   "cell_type": "markdown",
   "id": "dc6be462-588f-4c87-9ff0-09537c05325c",
   "metadata": {},
   "source": [
    "# gmarkrt\n",
    "- 베스트 상품 200개 수집"
   ]
  },
  {
   "cell_type": "code",
   "execution_count": 1,
   "id": "eb1b7e5c-cc11-47f2-8a33-9d29ff2c9082",
   "metadata": {},
   "outputs": [],
   "source": [
    "import pandas as pd\n",
    "import requests\n",
    "from bs4 import BeautifulSoup"
   ]
  },
  {
   "cell_type": "code",
   "execution_count": null,
   "id": "c8491ca7-a96b-4a25-9b25-591e88d1f014",
   "metadata": {},
   "outputs": [],
   "source": [
    "# 1. URL"
   ]
  },
  {
   "cell_type": "code",
   "execution_count": 2,
   "id": "5fc19310-d15e-43ce-8a8a-8cc6fd6ed85a",
   "metadata": {},
   "outputs": [],
   "source": [
    "url='http://corners.gmarket.co.kr/Bestsellers'"
   ]
  },
  {
   "cell_type": "code",
   "execution_count": null,
   "id": "d341f352-7324-44de-96e5-806bf4ee673f",
   "metadata": {},
   "outputs": [],
   "source": [
    "# 2. request > response :HTML"
   ]
  },
  {
   "cell_type": "code",
   "execution_count": 3,
   "id": "31e41624-e1a8-40ad-aa92-e0dbd09dbf9a",
   "metadata": {},
   "outputs": [
    {
     "data": {
      "text/plain": [
       "<Response [200]>"
      ]
     },
     "execution_count": 3,
     "metadata": {},
     "output_type": "execute_result"
    }
   ],
   "source": [
    "response = requests.get(url)\n",
    "response"
   ]
  },
  {
   "cell_type": "code",
   "execution_count": 4,
   "id": "9e39cc7e-33b4-46a8-8ca5-ef26f686c573",
   "metadata": {},
   "outputs": [
    {
     "data": {
      "text/plain": [
       "'<!DOCTYPE HTML PUBLIC \"-//W3C//DTD HTML 4.01 Transitional//EN\" \"http://www.w3.org/TR/html4/loose.dtd\">\\r\\n<html lang=\"ko\">\\r\\n<head>\\r\\n\\t<title>G마켓 - G마켓 베스트</title>\\r\\n\\t<meta http-equiv=\"X-UA-Compatible\" content=\"IE=edge\" />\\r\\n\\t<meta http-equiv=\"content-type\" content=\"text/html; charset=utf-8\" />\\r\\n\\t<meta ht'"
      ]
     },
     "execution_count": 4,
     "metadata": {},
     "output_type": "execute_result"
    }
   ],
   "source": [
    "response.text[:300]"
   ]
  },
  {
   "cell_type": "code",
   "execution_count": null,
   "id": "34e91d37-41f6-4c8b-87da-22e7ad06748c",
   "metadata": {},
   "outputs": [],
   "source": [
    "# html(str) >bO"
   ]
  },
  {
   "cell_type": "code",
   "execution_count": 6,
   "id": "0d312a7a-a7f7-46ed-a707-1bbc791361f4",
   "metadata": {},
   "outputs": [
    {
     "data": {
      "text/plain": [
       "bs4.BeautifulSoup"
      ]
     },
     "execution_count": 6,
     "metadata": {},
     "output_type": "execute_result"
    }
   ],
   "source": [
    "dom = BeautifulSoup(response.text, \"html.parser\")\n",
    "type(dom)"
   ]
  },
  {
   "cell_type": "code",
   "execution_count": null,
   "id": "31f1cd0f-034e-4de1-b5af-c29b71d8ad76",
   "metadata": {},
   "outputs": [],
   "source": [
    "# BSo>CSs>DAta"
   ]
  },
  {
   "cell_type": "code",
   "execution_count": 7,
   "id": "2bc5bee2-c48a-4cdf-b3e8-8f22ac1cafa1",
   "metadata": {},
   "outputs": [
    {
     "data": {
      "text/plain": [
       "200"
      ]
     },
     "execution_count": 7,
     "metadata": {},
     "output_type": "execute_result"
    }
   ],
   "source": [
    "elements = dom.select(\"#gBestWrap > div > div:nth-child(5) > div > ul>li\")\n",
    "len(elements)"
   ]
  },
  {
   "cell_type": "code",
   "execution_count": 9,
   "id": "ffda03c1-b2cb-4331-b546-adacbcc8b91a",
   "metadata": {},
   "outputs": [],
   "source": [
    "element=elements[0]"
   ]
  },
  {
   "cell_type": "code",
   "execution_count": 15,
   "id": "b145edde-4370-4f66-8fb2-81170066a656",
   "metadata": {},
   "outputs": [
    {
     "data": {
      "text/plain": [
       "{'title': '[한상궁김치]한상궁김치 국산 겉절이 2kg 출고당일생산',\n",
       " 'o_price': '23,400원',\n",
       " 's_price': '11,000원',\n",
       " 'img': '//gdimg.gmarket.co.kr/1798110680/still/300?ver=2022080416'}"
      ]
     },
     "execution_count": 15,
     "metadata": {},
     "output_type": "execute_result"
    }
   ],
   "source": [
    "data = {\n",
    "    \"title\":element.select_one('.itemname').text,\n",
    "    \"o_price\":element.select_one('.o-price').text,\n",
    "    \"s_price\":element.select_one('.s-price>strong').text,\n",
    "    \"img\":element.select_one('img').get(\"data-original\"),\n",
    "}\n",
    "data"
   ]
  },
  {
   "cell_type": "code",
   "execution_count": 16,
   "id": "0dee0985-ecb5-4ea3-a09d-a9b5ed399caf",
   "metadata": {},
   "outputs": [
    {
     "data": {
      "text/plain": [
       "[{'title': '[한상궁김치]한상궁김치 국산 겉절이 2kg 출고당일생산',\n",
       "  'o_price': '23,400원',\n",
       "  's_price': '11,000원',\n",
       "  'img': '//gdimg.gmarket.co.kr/1798110680/still/300?ver=2022080416'},\n",
       " {'title': '[광동]아이스웨일 레몬라임 탄산수 500ml 40pet/음료/음료수',\n",
       "  'o_price': '17,300원',\n",
       "  's_price': '13,900원',\n",
       "  'img': '//gdimg.gmarket.co.kr/2355814801/still/300?ver=2022080416'}]"
      ]
     },
     "execution_count": 16,
     "metadata": {},
     "output_type": "execute_result"
    }
   ],
   "source": [
    "items = []\n",
    "for element in elements:\n",
    "    data = {\n",
    "        \"title\":element.select_one('.itemname').text,\n",
    "        \"o_price\":element.select_one('.o-price').text,\n",
    "        \"s_price\":element.select_one('.s-price>strong').text,\n",
    "        \"img\":element.select_one('img').get(\"data-original\"),\n",
    "    }\n",
    "    items.append(data)\n",
    "items[:2]"
   ]
  },
  {
   "cell_type": "code",
   "execution_count": 17,
   "id": "4a2c98fa-8313-4972-9a07-f3a2236b49d1",
   "metadata": {},
   "outputs": [
    {
     "data": {
      "text/html": [
       "<div>\n",
       "<style scoped>\n",
       "    .dataframe tbody tr th:only-of-type {\n",
       "        vertical-align: middle;\n",
       "    }\n",
       "\n",
       "    .dataframe tbody tr th {\n",
       "        vertical-align: top;\n",
       "    }\n",
       "\n",
       "    .dataframe thead th {\n",
       "        text-align: right;\n",
       "    }\n",
       "</style>\n",
       "<table border=\"1\" class=\"dataframe\">\n",
       "  <thead>\n",
       "    <tr style=\"text-align: right;\">\n",
       "      <th></th>\n",
       "      <th>title</th>\n",
       "      <th>o_price</th>\n",
       "      <th>s_price</th>\n",
       "      <th>img</th>\n",
       "    </tr>\n",
       "  </thead>\n",
       "  <tbody>\n",
       "    <tr>\n",
       "      <th>198</th>\n",
       "      <td>주니어김영사 놓지 마 어휘 한자어 1 2 3 4 번 전4권 세트</td>\n",
       "      <td>81,000원</td>\n",
       "      <td>55,200원</td>\n",
       "      <td>//gdimg.gmarket.co.kr/2298871614/still/300?ver...</td>\n",
       "    </tr>\n",
       "    <tr>\n",
       "      <th>199</th>\n",
       "      <td>김치메밀전병900gx2봉1.8kg/만두 간식 메밀 2봉/HACCP/</td>\n",
       "      <td>19,900원</td>\n",
       "      <td>12,500원</td>\n",
       "      <td>//gdimg.gmarket.co.kr/1521852173/still/300?ver...</td>\n",
       "    </tr>\n",
       "  </tbody>\n",
       "</table>\n",
       "</div>"
      ],
      "text/plain": [
       "                                     title  o_price  s_price  \\\n",
       "198    주니어김영사 놓지 마 어휘 한자어 1 2 3 4 번 전4권 세트  81,000원  55,200원   \n",
       "199  김치메밀전병900gx2봉1.8kg/만두 간식 메밀 2봉/HACCP/  19,900원  12,500원   \n",
       "\n",
       "                                                   img  \n",
       "198  //gdimg.gmarket.co.kr/2298871614/still/300?ver...  \n",
       "199  //gdimg.gmarket.co.kr/1521852173/still/300?ver...  "
      ]
     },
     "execution_count": 17,
     "metadata": {},
     "output_type": "execute_result"
    }
   ],
   "source": [
    "df = pd.DataFrame(items)\n",
    "df.tail(2)"
   ]
  },
  {
   "cell_type": "code",
   "execution_count": null,
   "id": "ced7e360-10ff-4eba-811d-177d695439ea",
   "metadata": {},
   "outputs": [],
   "source": []
  },
  {
   "cell_type": "code",
   "execution_count": null,
   "id": "e0d18f8f-ea86-4e01-96fd-b7b50f221cfa",
   "metadata": {},
   "outputs": [],
   "source": []
  },
  {
   "cell_type": "code",
   "execution_count": null,
   "id": "03bed8aa-869b-4a77-8fb4-6b9c5bbe515b",
   "metadata": {},
   "outputs": [],
   "source": []
  },
  {
   "cell_type": "code",
   "execution_count": null,
   "id": "41faeb54-0fc0-4f17-b199-58840b233b0b",
   "metadata": {},
   "outputs": [],
   "source": []
  },
  {
   "cell_type": "code",
   "execution_count": null,
   "id": "a7076390-b011-4302-998e-6b23e6d917cc",
   "metadata": {},
   "outputs": [],
   "source": []
  },
  {
   "cell_type": "code",
   "execution_count": null,
   "id": "8d7f8d49-e523-4385-b77e-6aac24d4ced2",
   "metadata": {},
   "outputs": [],
   "source": []
  },
  {
   "cell_type": "code",
   "execution_count": null,
   "id": "b808a28d-6f63-4d08-9289-c3bcd2f70c0a",
   "metadata": {},
   "outputs": [],
   "source": []
  },
  {
   "cell_type": "code",
   "execution_count": null,
   "id": "ae3cd6f6-b5a5-445f-a7d2-ca93fc713e2c",
   "metadata": {},
   "outputs": [],
   "source": []
  },
  {
   "cell_type": "code",
   "execution_count": null,
   "id": "3642775f-50aa-453b-9211-265af23dea3a",
   "metadata": {},
   "outputs": [],
   "source": []
  },
  {
   "cell_type": "code",
   "execution_count": null,
   "id": "1cc52480-5ec5-4f48-907e-444d09a087c8",
   "metadata": {},
   "outputs": [],
   "source": []
  },
  {
   "cell_type": "code",
   "execution_count": null,
   "id": "fb1dc798-541e-4676-81ce-37c5aa0b2d5c",
   "metadata": {},
   "outputs": [],
   "source": []
  },
  {
   "cell_type": "code",
   "execution_count": null,
   "id": "6edb3a76-bf31-4dfb-ac33-1db24c7f77fd",
   "metadata": {},
   "outputs": [],
   "source": []
  },
  {
   "cell_type": "code",
   "execution_count": null,
   "id": "c0f2a679-0a60-4040-91bd-468670744897",
   "metadata": {},
   "outputs": [],
   "source": []
  },
  {
   "cell_type": "code",
   "execution_count": null,
   "id": "b35d859a-8663-4ce8-a577-e26e6c3a0220",
   "metadata": {},
   "outputs": [],
   "source": []
  },
  {
   "cell_type": "code",
   "execution_count": null,
   "id": "b9b348e9-a3fb-4dad-8ab9-67c5cad7d587",
   "metadata": {},
   "outputs": [],
   "source": []
  }
 ],
 "metadata": {
  "kernelspec": {
   "display_name": "Python 3",
   "language": "python",
   "name": "python3"
  },
  "language_info": {
   "codemirror_mode": {
    "name": "ipython",
    "version": 3
   },
   "file_extension": ".py",
   "mimetype": "text/x-python",
   "name": "python",
   "nbconvert_exporter": "python",
   "pygments_lexer": "ipython3",
   "version": "3.8.8"
  }
 },
 "nbformat": 4,
 "nbformat_minor": 5
}
