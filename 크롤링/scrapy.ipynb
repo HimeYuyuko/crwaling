{
 "cells": [
  {
   "cell_type": "markdown",
   "id": "a5b1ec9d-c68d-4171-9ebf-922111f57585",
   "metadata": {},
   "source": [
    "# Scrapy\n",
    "- 비동기 방식으로 데이터를 수집> 데이터 수집이 빠름"
   ]
  },
  {
   "cell_type": "code",
   "execution_count": 3,
   "id": "12ce6ff1-ed8e-45f8-aa07-cbd5395e2d7e",
   "metadata": {},
   "outputs": [],
   "source": [
    "import scrapy, requests\n",
    "from scrapy.http import TextResponse"
   ]
  },
  {
   "cell_type": "code",
   "execution_count": null,
   "id": "524160e2-ba14-4286-9140-89161d7e4a77",
   "metadata": {},
   "outputs": [],
   "source": [
    "# Gmarket 베스트 200 상품 데이터 수집"
   ]
  },
  {
   "cell_type": "code",
   "execution_count": null,
   "id": "b587a6aa-094f-4d46-b69a-d27ae542d634",
   "metadata": {},
   "outputs": [],
   "source": [
    "# 1. 스크레피 프로젝트 생성"
   ]
  },
  {
   "cell_type": "code",
   "execution_count": 4,
   "id": "ca888f89-5150-46f1-afee-d32ad2da5787",
   "metadata": {},
   "outputs": [
    {
     "name": "stdout",
     "output_type": "stream",
     "text": [
      "New Scrapy project 'gmarket', using template directory 'c:\\users\\user\\anaconda3\\lib\\site-packages\\scrapy\\templates\\project', created in:\n",
      "    C:\\Users\\User\\Desktop\\python\\크롤링\\gmarket\n",
      "\n",
      "You can start your first spider with:\n",
      "    cd gmarket\n",
      "    scrapy genspider example example.com\n"
     ]
    }
   ],
   "source": [
    "!scrapy startproject gmarket"
   ]
  },
  {
   "cell_type": "code",
   "execution_count": 5,
   "id": "b31b11c1-f12d-4b79-a3c1-eb45f059f4fa",
   "metadata": {},
   "outputs": [
    {
     "name": "stdout",
     "output_type": "stream",
     "text": [
      "폴더 PATH의 목록입니다.\n",
      "볼륨 일련 번호가 000000EA 7C6C:FC35입니다.\n",
      "C:\\USERS\\USER\\DESKTOP\\PYTHON\\크롤링\\GMARKET\n",
      "│  scrapy.cfg\n",
      "│  \n",
      "└─gmarket\n",
      "    │  items.py\n",
      "    │  middlewares.py\n",
      "    │  pipelines.py\n",
      "    │  settings.py\n",
      "    │  __init__.py\n",
      "    │  \n",
      "    └─spiders\n",
      "            __init__.py\n",
      "            \n"
     ]
    }
   ],
   "source": [
    "!tree gmarket /f"
   ]
  },
  {
   "cell_type": "code",
   "execution_count": null,
   "id": "e2002ccd-c841-48a5-8fc7-a2af9eec9d98",
   "metadata": {},
   "outputs": [],
   "source": [
    "# items.py: 수집할 데이터의 구조 정의\n",
    "# middlewares.py:데이터를 수집할때 headers 정보와 같은 내용을 설정\n",
    "# piplines.py: 데이터를 수집한 후 코드 실행 정의\n",
    "# settings.py: 크롤링 설정: 크롤링 시간 텀, robots.txt 규칙\n",
    "# spiders:크롤링 절차 정의"
   ]
  },
  {
   "cell_type": "code",
   "execution_count": null,
   "id": "0fd65c59-0440-4aa8-b91b-6dc4266d4236",
   "metadata": {},
   "outputs": [],
   "source": [
    "# 2. xpath 찾기: 링크, 상세 페이지 데이터 "
   ]
  },
  {
   "cell_type": "code",
   "execution_count": 6,
   "id": "4b92dade-74ce-4fec-a105-58074f0d304c",
   "metadata": {},
   "outputs": [],
   "source": [
    "url ='http://corners.gmarket.co.kr/Bestsellers'"
   ]
  },
  {
   "cell_type": "code",
   "execution_count": null,
   "id": "e4877bbe-8c36-484a-a2e1-7df9dfe1edf2",
   "metadata": {},
   "outputs": [],
   "source": [
    "# 링크데이터 수집"
   ]
  },
  {
   "cell_type": "code",
   "execution_count": 8,
   "id": "12ca12a2-4684-4342-a189-de12d7b7ee7d",
   "metadata": {},
   "outputs": [],
   "source": [
    "request = requests.get(url)\n",
    "response = TextResponse(request.url,body = request.text,encoding='utf-8')"
   ]
  },
  {
   "cell_type": "code",
   "execution_count": 13,
   "id": "7907974a-e65a-4643-ae37-f893972cdea5",
   "metadata": {},
   "outputs": [
    {
     "data": {
      "text/plain": [
       "['http://item.gmarket.co.kr/Item?goodscode=2519604129&ver=637953125844025224',\n",
       " 'http://item.gmarket.co.kr/Item?goodscode=2520466046&ver=637953125844025224']"
      ]
     },
     "execution_count": 13,
     "metadata": {},
     "output_type": "execute_result"
    }
   ],
   "source": [
    "links = response.xpath('//*[@id=\"gBestWrap\"]/div/div[3]/div/ul/li/a/@href').extract()\n",
    "links[:2]"
   ]
  },
  {
   "cell_type": "code",
   "execution_count": 10,
   "id": "03ff0d90-0810-4120-a66e-86310ec708e6",
   "metadata": {},
   "outputs": [],
   "source": [
    "# 상세 페이지 데이터 수집"
   ]
  },
  {
   "cell_type": "code",
   "execution_count": 16,
   "id": "c059e8c5-ed05-40fd-8369-4f87002b03b2",
   "metadata": {},
   "outputs": [],
   "source": [
    "link = links[0]\n",
    "request = requests.get(link)\n",
    "response = TextResponse(request.url,body = request.text,encoding='utf-8')"
   ]
  },
  {
   "cell_type": "code",
   "execution_count": 18,
   "id": "8d22a4fe-bcd0-4f57-a080-17af603fcf75",
   "metadata": {},
   "outputs": [
    {
     "data": {
      "text/plain": [
       "('브라운 면도기 세정액 CCR5+1 ', '25,030')"
      ]
     },
     "execution_count": 18,
     "metadata": {},
     "output_type": "execute_result"
    }
   ],
   "source": [
    "title = response.xpath('//*[@id=\"itemcase_basic\"]/div/h1/text()')[0].extract()\n",
    "price = response.xpath('//*[@id=\"itemcase_basic\"]/div/p/span/strong/text()')[0].extract()\n",
    "title,price"
   ]
  },
  {
   "cell_type": "code",
   "execution_count": null,
   "id": "96190e87-7435-467a-a879-d15cded01d84",
   "metadata": {},
   "outputs": [],
   "source": []
  },
  {
   "cell_type": "code",
   "execution_count": null,
   "id": "26fa516b-93c7-4788-bf28-c46c4face61f",
   "metadata": {},
   "outputs": [],
   "source": []
  },
  {
   "cell_type": "code",
   "execution_count": null,
   "id": "b729dce1-f582-48ed-aaaa-860f6b9017bc",
   "metadata": {},
   "outputs": [],
   "source": [
    "# 3. items.py:코드작성:model"
   ]
  },
  {
   "cell_type": "code",
   "execution_count": 19,
   "id": "c3c6be13-8616-42ea-bd4e-f2188e63fc97",
   "metadata": {},
   "outputs": [
    {
     "name": "stdout",
     "output_type": "stream",
     "text": [
      "Overwriting gmarket/gmarket/items.py\n"
     ]
    }
   ],
   "source": [
    "%%writefile gmarket/gmarket/items.py\n",
    "import scrapy\n",
    "\n",
    "class GmarketItem(scrapy.Item):\n",
    "    title =scrapy.Field()\n",
    "    price =scrapy.Field()\n",
    "    link =scrapy.Field()"
   ]
  },
  {
   "cell_type": "code",
   "execution_count": null,
   "id": "addefd7f-4e31-4b74-b8b7-eb652cb0b548",
   "metadata": {},
   "outputs": [],
   "source": [
    "# 4. spider.py:코드작성: 크롤링 절차 정의"
   ]
  },
  {
   "cell_type": "code",
   "execution_count": 20,
   "id": "78bd4639-cb84-4e1e-8817-6bc1a31356ac",
   "metadata": {},
   "outputs": [
    {
     "name": "stdout",
     "output_type": "stream",
     "text": [
      "Writing gmarket/gmarket/spiders/spider.py\n"
     ]
    }
   ],
   "source": [
    "%%writefile gmarket/gmarket/spiders/spider.py\n",
    "import scrapy\n",
    "from gmarket.items import GmarketItem\n",
    "\n",
    "class GMSpider(scrapy.Spider):\n",
    "    name = \"GMB\"\n",
    "    allow_domain = [\"gmarket.co.kr\"]\n",
    "    start_urls = [\"http://corners.gmarket.co.kr/Bestsellers\"]\n",
    "    \n",
    "    def parse(self, response):\n",
    "        links = response.xpath('//*[@id=\"gBestWrap\"]/div/div[3]/div/ul/li/a/@href').extract()\n",
    "        for link in links[:20]:\n",
    "            yield scrapy.Request(link, callback=self.parse_content)\n",
    "    \n",
    "    def parse_content(self, response):\n",
    "        item = GmarketItem()\n",
    "        item[\"title\"] = response.xpath('//*[@id=\"itemcase_basic\"]/div[1]/h1/text()')[0].extract()\n",
    "        item[\"price\"] = response.xpath('//*[@id=\"itemcase_basic\"]/div[1]/p/span/strong/text()')[0].extract()\n",
    "        item[\"link\"] = response.url\n",
    "        yield item"
   ]
  },
  {
   "cell_type": "code",
   "execution_count": null,
   "id": "70f92e47-07c8-493c-bdb4-b178456562c0",
   "metadata": {},
   "outputs": [],
   "source": [
    "# 5. 스크레피 프로젝트 실행\n",
    "# gmarket 디렉토리\n",
    "# scrapy crawl GMB -o items.csv"
   ]
  },
  {
   "cell_type": "code",
   "execution_count": 21,
   "id": "859bf819-aa1f-4961-9e09-e2a1349e9c0e",
   "metadata": {},
   "outputs": [
    {
     "data": {
      "text/plain": [
       "'C:\\\\Users\\\\User\\\\Desktop\\\\python\\\\크롤링'"
      ]
     },
     "execution_count": 21,
     "metadata": {},
     "output_type": "execute_result"
    }
   ],
   "source": [
    "%pwd"
   ]
  },
  {
   "cell_type": "code",
   "execution_count": 23,
   "id": "ffcb0c8c-2101-4be6-9606-7587fd7e7a27",
   "metadata": {},
   "outputs": [
    {
     "data": {
      "text/html": [
       "<div>\n",
       "<style scoped>\n",
       "    .dataframe tbody tr th:only-of-type {\n",
       "        vertical-align: middle;\n",
       "    }\n",
       "\n",
       "    .dataframe tbody tr th {\n",
       "        vertical-align: top;\n",
       "    }\n",
       "\n",
       "    .dataframe thead th {\n",
       "        text-align: right;\n",
       "    }\n",
       "</style>\n",
       "<table border=\"1\" class=\"dataframe\">\n",
       "  <thead>\n",
       "    <tr style=\"text-align: right;\">\n",
       "      <th></th>\n",
       "      <th>link</th>\n",
       "      <th>price</th>\n",
       "      <th>title</th>\n",
       "    </tr>\n",
       "  </thead>\n",
       "  <tbody>\n",
       "    <tr>\n",
       "      <th>18</th>\n",
       "      <td>http://item.gmarket.co.kr/Item?goodscode=25204...</td>\n",
       "      <td>28,800</td>\n",
       "      <td>(롯데백화점)남여공용 디스럽터 테이피 테잎 _ FS1HTB1091X</td>\n",
       "    </tr>\n",
       "    <tr>\n",
       "      <th>19</th>\n",
       "      <td>http://item.gmarket.co.kr/Item?goodscode=21674...</td>\n",
       "      <td>72,000</td>\n",
       "      <td>닌자 프로페셔널 초퍼 믹서기 블렌더 NJ1001KR</td>\n",
       "    </tr>\n",
       "  </tbody>\n",
       "</table>\n",
       "</div>"
      ],
      "text/plain": [
       "                                                 link   price  \\\n",
       "18  http://item.gmarket.co.kr/Item?goodscode=25204...  28,800   \n",
       "19  http://item.gmarket.co.kr/Item?goodscode=21674...  72,000   \n",
       "\n",
       "                                     title  \n",
       "18  (롯데백화점)남여공용 디스럽터 테이피 테잎 _ FS1HTB1091X   \n",
       "19           닌자 프로페셔널 초퍼 믹서기 블렌더 NJ1001KR   "
      ]
     },
     "execution_count": 23,
     "metadata": {},
     "output_type": "execute_result"
    }
   ],
   "source": [
    "pd.read_csv('gmarket/items.csv').tail(2)"
   ]
  },
  {
   "cell_type": "code",
   "execution_count": null,
   "id": "e0a02058-4877-4354-96b8-1a8cee31cf81",
   "metadata": {},
   "outputs": [],
   "source": []
  },
  {
   "cell_type": "code",
   "execution_count": null,
   "id": "4b85e8b0-1f4c-410d-9f02-cc96b76337a6",
   "metadata": {},
   "outputs": [],
   "source": []
  }
 ],
 "metadata": {
  "kernelspec": {
   "display_name": "Python 3",
   "language": "python",
   "name": "python3"
  },
  "language_info": {
   "codemirror_mode": {
    "name": "ipython",
    "version": 3
   },
   "file_extension": ".py",
   "mimetype": "text/x-python",
   "name": "python",
   "nbconvert_exporter": "python",
   "pygments_lexer": "ipython3",
   "version": "3.8.8"
  }
 },
 "nbformat": 4,
 "nbformat_minor": 5
}
