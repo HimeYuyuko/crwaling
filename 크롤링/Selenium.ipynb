{
 "cells": [
  {
   "cell_type": "markdown",
   "id": "9a025287-9712-490c-a24d-e1d1a1989c37",
   "metadata": {},
   "source": [
    "## selenium\n",
    "- 브라우저의 자동화 목적으로 만들어진 다양한 브라우져와 언어를 지원하는 라이브러리\n",
    "- 브라우저를 python 코드로 컨트롤해서 브라우저에 있는 데이터를 수집"
   ]
  },
  {
   "cell_type": "markdown",
   "id": "98d04706-4b1c-4030-b086-018f2c656059",
   "metadata": {},
   "source": [
    "### 크롤링 방법\n",
    "- 웹페이지 API트래픽을 분석해서 데이터 수집: naver stock\n",
    "- 공식적으로 제공하는 API를 application key를 받아서 데이터 수집: naver api\n",
    "- requests : html, beatufulsoup(css selector): 웹페이지의 html 코드 받아서 데이터 수집: gmarket\n",
    "- selenium: browser -python:브라우저를 파이썬 코드로 컨트롤 해서 데이터 수집:ted\n",
    "- 크롤링시 좋은 순서: 2> 1 > 3 > 4"
   ]
  },
  {
   "cell_type": "markdown",
   "id": "f495223a-2480-4dde-b48a-9a4447760c12",
   "metadata": {},
   "source": [
    "### 환경 설정\n",
    "- 크롬 브라우저 설치\n",
    "- 크롬 브라우저 드라이버 다운로드\n",
    "- selenium 패키지 설치\n",
    "- opt. : 크롬 브라우저의 드라이버 파일을 환경변수로 등록하면 쉽게 사용"
   ]
  },
  {
   "cell_type": "code",
   "execution_count": 1,
   "id": "67acd8ae-c3b3-4bb1-b3ce-2610c550b984",
   "metadata": {},
   "outputs": [],
   "source": [
    "from selenium import webdriver\n",
    "from selenium.webdriver.common.by import By\n",
    "from selenium.webdriver.chrome.service import Service\n",
    "from webdriver_manager.chrome import ChromeDriverManager\n",
    "from webdriver_manager.microsoft import EdgeChromiumDriverManager"
   ]
  },
  {
   "cell_type": "code",
   "execution_count": 2,
   "id": "87101c1e-8c5a-4663-bcf0-6100aec7d61e",
   "metadata": {},
   "outputs": [],
   "source": [
    "# 1. 브라우저 띄우기\n",
    "driver =webdriver.Chrome(service=Service(ChromeDriverManager().install()))"
   ]
  },
  {
   "cell_type": "code",
   "execution_count": 3,
   "id": "01714fc1-cfd4-46d5-ada3-1f5bdef20b11",
   "metadata": {},
   "outputs": [],
   "source": [
    "url=f'https://www.daum.net'\n",
    "driver.get(url)"
   ]
  },
  {
   "cell_type": "code",
   "execution_count": 4,
   "id": "a3322cc7-f605-4ae5-86bd-b20b5c7eb7f6",
   "metadata": {},
   "outputs": [],
   "source": [
    "#3. 브라우저 사이즈 조절\n",
    "driver.set_window_size(200,600)"
   ]
  },
  {
   "cell_type": "code",
   "execution_count": 5,
   "id": "b6f99c71-0d99-4840-a30a-8916cc6124aa",
   "metadata": {},
   "outputs": [],
   "source": [
    "# 4.브라우저 스크롤 조절(자바스크립트 코드 실행)\n",
    "driver.execute_script(\"window.scrollTo(200,600)\")"
   ]
  },
  {
   "cell_type": "code",
   "execution_count": 6,
   "id": "f7e498d3-fc50-464c-8951-2a2392411075",
   "metadata": {},
   "outputs": [],
   "source": [
    "# 5. alert 다루기\n",
    "driver.execute_script(\"alert('Hello 노무현')\")"
   ]
  },
  {
   "cell_type": "code",
   "execution_count": 7,
   "id": "993f95e5-c628-4933-aa2a-40e0a2d1e24c",
   "metadata": {},
   "outputs": [],
   "source": [
    "alert = driver.switch_to.alert\n",
    "alert.accept()"
   ]
  },
  {
   "cell_type": "code",
   "execution_count": 8,
   "id": "b7d7c0c4-1378-41ae-987d-22ee5d492408",
   "metadata": {},
   "outputs": [],
   "source": [
    "driver.execute_script(\"window.scrollTo(0,0)\")"
   ]
  },
  {
   "cell_type": "code",
   "execution_count": 9,
   "id": "eeff3763-943f-4da1-8df6-c4670cfa701f",
   "metadata": {},
   "outputs": [],
   "source": [
    "# 6 input창에 입력"
   ]
  },
  {
   "cell_type": "code",
   "execution_count": 10,
   "id": "f16d6d74-258e-4ead-a534-3180daeb07b6",
   "metadata": {},
   "outputs": [],
   "source": [
    "driver.find_element(By.CSS_SELECTOR,\"#q\").send_keys(\"파이썬\")"
   ]
  },
  {
   "cell_type": "code",
   "execution_count": 11,
   "id": "5f1c38f0-9ee9-46d3-9a96-df4436889be2",
   "metadata": {},
   "outputs": [],
   "source": [
    "# 7. 검색버튼 클릭\n",
    "driver.find_element(By.CSS_SELECTOR,\".inner_search>.ico_pctop.btn_search\").click()"
   ]
  },
  {
   "cell_type": "code",
   "execution_count": 12,
   "id": "701d7553-64b3-488f-9df3-3bc8a7c1002f",
   "metadata": {},
   "outputs": [],
   "source": [
    "# 8. 브라우저 종료\n",
    "driver.quit()"
   ]
  },
  {
   "cell_type": "code",
   "execution_count": 13,
   "id": "47b6cb2a-50c4-4044-a6e1-b520adb26d32",
   "metadata": {},
   "outputs": [],
   "source": [
    "# 브라우저 자동화\n",
    "driver =webdriver.Chrome(service=Service(ChromeDriverManager().install()))\n",
    "driver.get(url)\n",
    "driver.set_window_size(200,600)\n",
    "driver.execute_script(\"window.scrollTo(200,600)\")\n",
    "driver.execute_script(\"alert('Hello 노무현')\")\n",
    "alert = driver.switch_to.alert\n",
    "alert.accept()\n",
    "driver.execute_script(\"window.scrollTo(0,0)\")\n",
    "driver.find_element(By.CSS_SELECTOR,\"#q\").send_keys(\"파이썬\")\n",
    "driver.find_element(By.CSS_SELECTOR,\".inner_search>.ico_pctop.btn_search\").click()\n",
    "driver.quit()"
   ]
  },
  {
   "cell_type": "code",
   "execution_count": 14,
   "id": "bb0637e5-8b04-412b-94a2-b4cf1a969088",
   "metadata": {},
   "outputs": [],
   "source": [
    "# 간단하게 머신러닝"
   ]
  },
  {
   "cell_type": "code",
   "execution_count": 15,
   "id": "bff63060-e99f-4df2-948f-1bbe00bd70b0",
   "metadata": {},
   "outputs": [
    {
     "name": "stdout",
     "output_type": "stream",
     "text": [
      " C 드라이브의 볼륨에는 이름이 없습니다.\n",
      " 볼륨 일련 번호: 7C6C-FC35\n",
      "\n",
      " C:\\Users\\User\\Desktop\\python\\크롤링 디렉터리\n",
      "\n",
      "2022-08-05  오후 12:03               477 premierleague.csv\n",
      "               1개 파일                 477 바이트\n",
      "               0개 디렉터리  131,793,563,648 바이트 남음\n"
     ]
    }
   ],
   "source": [
    "%ls premierleague.csv"
   ]
  },
  {
   "cell_type": "code",
   "execution_count": 16,
   "id": "15173925-b1c1-4928-abe4-a6208577b9e2",
   "metadata": {},
   "outputs": [
    {
     "data": {
      "text/html": [
       "<div>\n",
       "<style scoped>\n",
       "    .dataframe tbody tr th:only-of-type {\n",
       "        vertical-align: middle;\n",
       "    }\n",
       "\n",
       "    .dataframe tbody tr th {\n",
       "        vertical-align: top;\n",
       "    }\n",
       "\n",
       "    .dataframe thead th {\n",
       "        text-align: right;\n",
       "    }\n",
       "</style>\n",
       "<table border=\"1\" class=\"dataframe\">\n",
       "  <thead>\n",
       "    <tr style=\"text-align: right;\">\n",
       "      <th></th>\n",
       "      <th>name</th>\n",
       "      <th>gf</th>\n",
       "      <th>ga</th>\n",
       "      <th>points</th>\n",
       "    </tr>\n",
       "  </thead>\n",
       "  <tbody>\n",
       "    <tr>\n",
       "      <th>18</th>\n",
       "      <td>Stoke City</td>\n",
       "      <td>35</td>\n",
       "      <td>68</td>\n",
       "      <td>33</td>\n",
       "    </tr>\n",
       "    <tr>\n",
       "      <th>19</th>\n",
       "      <td>West Bromwich Albion</td>\n",
       "      <td>31</td>\n",
       "      <td>56</td>\n",
       "      <td>31</td>\n",
       "    </tr>\n",
       "  </tbody>\n",
       "</table>\n",
       "</div>"
      ],
      "text/plain": [
       "                    name  gf  ga  points\n",
       "18            Stoke City  35  68      33\n",
       "19  West Bromwich Albion  31  56      31"
      ]
     },
     "execution_count": 16,
     "metadata": {},
     "output_type": "execute_result"
    }
   ],
   "source": [
    "df = pd.read_csv(\"premierleague.csv\")\n",
    "df.tail(2)"
   ]
  },
  {
   "cell_type": "code",
   "execution_count": 17,
   "id": "ac64a69c-417c-430a-b402-f24830066303",
   "metadata": {},
   "outputs": [],
   "source": [
    "feature = df[['gf','ga']]\n",
    "target = df['points']"
   ]
  },
  {
   "cell_type": "code",
   "execution_count": 18,
   "id": "3b011b58-dfb1-43ef-9f5a-a59360adb762",
   "metadata": {},
   "outputs": [],
   "source": [
    "from sklearn.linear_model import LinearRegression\n",
    "model = LinearRegression().fit(feature,target)"
   ]
  },
  {
   "cell_type": "code",
   "execution_count": 19,
   "id": "1cbbb171-9791-408e-87bf-ab622693b992",
   "metadata": {},
   "outputs": [
    {
     "data": {
      "text/plain": [
       "array([79.])"
      ]
     },
     "execution_count": 19,
     "metadata": {},
     "output_type": "execute_result"
    }
   ],
   "source": [
    "# 데이터 예측: 득점\n",
    "np.round(model.predict([[80,36]]))"
   ]
  },
  {
   "cell_type": "code",
   "execution_count": 20,
   "id": "ab00e046-d7b1-4a3a-aeff-00297f064e00",
   "metadata": {},
   "outputs": [],
   "source": [
    "#Warning 메세지 삭제\n",
    "import warnings\n",
    "warnings.filterwarnings('ignore')"
   ]
  },
  {
   "cell_type": "code",
   "execution_count": 21,
   "id": "d22c0a33-a84d-4d12-a917-9418becd7493",
   "metadata": {},
   "outputs": [],
   "source": [
    "# model 저장--> 하고끄면 운지니깐"
   ]
  },
  {
   "cell_type": "code",
   "execution_count": 22,
   "id": "08a2461e-d945-4d82-ade7-0fa9e776d636",
   "metadata": {},
   "outputs": [],
   "source": [
    "import pickle"
   ]
  },
  {
   "cell_type": "code",
   "execution_count": 23,
   "id": "e8cd9ba4-16bc-4086-819b-c8a2df0674da",
   "metadata": {},
   "outputs": [],
   "source": [
    "# ram>SSD\n",
    "with open('model.pkl','wb') as file:\n",
    "    pickle.dump(model,file)"
   ]
  },
  {
   "cell_type": "code",
   "execution_count": 24,
   "id": "aa352d43-3952-4204-a153-2c8b63ac21b5",
   "metadata": {},
   "outputs": [],
   "source": [
    "# ssd>ram"
   ]
  },
  {
   "cell_type": "code",
   "execution_count": 25,
   "id": "31c90538-0c50-448e-a528-06df39045c1c",
   "metadata": {},
   "outputs": [],
   "source": [
    "with open('model.pkl','rb') as file:\n",
    "    load_model= pickle.load(file)"
   ]
  },
  {
   "cell_type": "code",
   "execution_count": 26,
   "id": "d6950c80-6acd-4024-aeb6-b05ece15546d",
   "metadata": {},
   "outputs": [
    {
     "data": {
      "text/plain": [
       "array([72.])"
      ]
     },
     "execution_count": 26,
     "metadata": {},
     "output_type": "execute_result"
    }
   ],
   "source": [
    "np.round(load_model.predict([[50,20]]))"
   ]
  },
  {
   "cell_type": "markdown",
   "id": "9f8d055b-4c02-447f-aee5-41eec900de2c",
   "metadata": {},
   "source": [
    "## 텍스터 데이터 수집\n",
    "- TED 사이트:https://ted.com/talks"
   ]
  },
  {
   "cell_type": "code",
   "execution_count": 32,
   "id": "4654b16d-d470-4cce-abb2-308ee26f3181",
   "metadata": {},
   "outputs": [],
   "source": [
    "url=f'https://ted.com/talks'"
   ]
  },
  {
   "cell_type": "code",
   "execution_count": 40,
   "id": "08ec1946-6dca-405b-a454-8b34699cf1de",
   "metadata": {},
   "outputs": [],
   "source": [
    "driver =webdriver.Chrome(service=Service(ChromeDriverManager().install()))\n",
    "driver.get(url)"
   ]
  },
  {
   "cell_type": "code",
   "execution_count": 41,
   "id": "48087773-371b-4a22-a572-57b04d3dad5b",
   "metadata": {},
   "outputs": [
    {
     "data": {
      "text/plain": [
       "'Join TED Recommends to get the best ideas, selected just for you'"
      ]
     },
     "execution_count": 41,
     "metadata": {},
     "output_type": "execute_result"
    }
   ],
   "source": [
    "sub_title = driver.find_element(By.CSS_SELECTOR,\"#banner-secondary\").text\n",
    "sub_title"
   ]
  },
  {
   "cell_type": "code",
   "execution_count": 43,
   "id": "9c34ed8b-0806-470f-a75a-87b06d9a1856",
   "metadata": {},
   "outputs": [],
   "source": [
    "# select box에서 한국어 메뉴 클릭\n",
    "# [lang='ko']\n",
    "driver.find_element(By.CSS_SELECTOR,'#languages [lang=\"ko\"]').click()"
   ]
  },
  {
   "cell_type": "code",
   "execution_count": 44,
   "id": "a12f13c3-c098-4298-bf48-99f3e0420993",
   "metadata": {},
   "outputs": [
    {
     "data": {
      "text/plain": [
       "36"
      ]
     },
     "execution_count": 44,
     "metadata": {},
     "output_type": "execute_result"
    }
   ],
   "source": [
    "# 5. 전체 데이터의 제목과 링크 데이터 수집\n",
    "elements = driver.find_elements(By.CSS_SELECTOR,'#browse-results > .row > div')\n",
    "len(elements)"
   ]
  },
  {
   "cell_type": "code",
   "execution_count": 49,
   "id": "37a39913-61c1-4282-9137-095d310f3387",
   "metadata": {},
   "outputs": [
    {
     "data": {
      "text/plain": [
       "('스페인어의 역사 - 일란 스타반스(Ilan Stavans)',\n",
       " 'https://www.ted.com/talks/ilan_stavans_a_brief_history_of_spanish?language=ko')"
      ]
     },
     "execution_count": 49,
     "metadata": {},
     "output_type": "execute_result"
    }
   ],
   "source": [
    "element = elements[0]\n",
    "title = element.find_element(By.CSS_SELECTOR,'h4 >.ga-link').text\n",
    "link = element.find_element(By.CSS_SELECTOR,'h4 >.ga-link').get_attribute('href')\n",
    "title,link"
   ]
  },
  {
   "cell_type": "code",
   "execution_count": 51,
   "id": "64350f05-bc6f-4ef2-aa5a-be0eb3cd610e",
   "metadata": {},
   "outputs": [
    {
     "data": {
      "text/html": [
       "<div>\n",
       "<style scoped>\n",
       "    .dataframe tbody tr th:only-of-type {\n",
       "        vertical-align: middle;\n",
       "    }\n",
       "\n",
       "    .dataframe tbody tr th {\n",
       "        vertical-align: top;\n",
       "    }\n",
       "\n",
       "    .dataframe thead th {\n",
       "        text-align: right;\n",
       "    }\n",
       "</style>\n",
       "<table border=\"1\" class=\"dataframe\">\n",
       "  <thead>\n",
       "    <tr style=\"text-align: right;\">\n",
       "      <th></th>\n",
       "      <th>title</th>\n",
       "      <th>link</th>\n",
       "    </tr>\n",
       "  </thead>\n",
       "  <tbody>\n",
       "    <tr>\n",
       "      <th>34</th>\n",
       "      <td>두려움을 극복하기 위한 올림픽 챔피언의 사고방식</td>\n",
       "      <td>https://www.ted.com/talks/allyson_felix_an_oly...</td>\n",
       "    </tr>\n",
       "    <tr>\n",
       "      <th>35</th>\n",
       "      <td>바퀴벌레를 없애는 것은 왜 이렇게 어려울까요? - 아메야 곤달레카르</td>\n",
       "      <td>https://www.ted.com/talks/ameya_gondhalekar_wh...</td>\n",
       "    </tr>\n",
       "  </tbody>\n",
       "</table>\n",
       "</div>"
      ],
      "text/plain": [
       "                                    title  \\\n",
       "34             두려움을 극복하기 위한 올림픽 챔피언의 사고방식   \n",
       "35  바퀴벌레를 없애는 것은 왜 이렇게 어려울까요? - 아메야 곤달레카르   \n",
       "\n",
       "                                                 link  \n",
       "34  https://www.ted.com/talks/allyson_felix_an_oly...  \n",
       "35  https://www.ted.com/talks/ameya_gondhalekar_wh...  "
      ]
     },
     "execution_count": 51,
     "metadata": {},
     "output_type": "execute_result"
    }
   ],
   "source": [
    "# 데이터 프레임으로 만들기\n",
    "\n",
    "data =[]\n",
    "for element in elements:\n",
    "    data.append({\n",
    "        'title':element.find_element(By.CSS_SELECTOR,'h4 >.ga-link').text,\n",
    "        'link':element.find_element(By.CSS_SELECTOR,'h4 >.ga-link').get_attribute('href')\n",
    "    })\n",
    "df = pd.DataFrame(data)\n",
    "df.tail(2)"
   ]
  },
  {
   "cell_type": "code",
   "execution_count": 52,
   "id": "de2dfd15-6336-437d-9b9c-f3a62e547040",
   "metadata": {},
   "outputs": [],
   "source": [
    "driver.quit()"
   ]
  },
  {
   "cell_type": "markdown",
   "id": "05ae785c-8e3c-415a-bb46-649ac9304dbc",
   "metadata": {},
   "source": [
    "# Headlsee\n",
    "- 브라우저를 화면에 띄우지 않고 메모리 상에서만 브라우저를 실항하여 크롤링\n",
    "- 윈도우가 지원되지 않는 환경에서 selenium 사용가능\n",
    "- 크롬 버전 60이상부터 지원"
   ]
  },
  {
   "cell_type": "code",
   "execution_count": 53,
   "id": "4c9fa54f-50dc-4578-88f1-c172a2aab5c4",
   "metadata": {},
   "outputs": [
    {
     "data": {
      "text/plain": [
       "'104.0.5112.80'"
      ]
     },
     "execution_count": 53,
     "metadata": {},
     "output_type": "execute_result"
    }
   ],
   "source": [
    "driver =webdriver.Chrome(service=Service(ChromeDriverManager().install()))\n",
    "version = driver.capabilities['browserVersion']\n",
    "driver.quit()\n",
    "version"
   ]
  },
  {
   "cell_type": "code",
   "execution_count": 61,
   "id": "3fbe1935-0bb3-4a44-917f-cc8d36e89048",
   "metadata": {},
   "outputs": [
    {
     "data": {
      "text/plain": [
       "'Join TED Recommends to get the best ideas, selected just for you'"
      ]
     },
     "execution_count": 61,
     "metadata": {},
     "output_type": "execute_result"
    }
   ],
   "source": [
    "options = webdriver.ChromeOptions()\n",
    "options.add_argument(\"headless\")\n",
    "\n",
    "driver =webdriver.Chrome(service=Service(ChromeDriverManager().install()),options=options)\n",
    "\n",
    "driver.get(url)\n",
    "sub_title = driver.find_element(By.CSS_SELECTOR,\"#banner-secondary\").text\n",
    "driver.quit()\n",
    "sub_title"
   ]
  },
  {
   "cell_type": "code",
   "execution_count": null,
   "id": "b1ef7552-9182-47f3-923d-23792fbac17c",
   "metadata": {},
   "outputs": [],
   "source": []
  },
  {
   "cell_type": "code",
   "execution_count": null,
   "id": "7cef6399-b28c-462d-8be1-82e5a0659203",
   "metadata": {},
   "outputs": [],
   "source": []
  },
  {
   "cell_type": "code",
   "execution_count": null,
   "id": "4fe5e0a1-1ccd-4a50-a864-58c4dd3cb1e2",
   "metadata": {},
   "outputs": [],
   "source": []
  },
  {
   "cell_type": "code",
   "execution_count": null,
   "id": "8ea3cf05-f85b-4712-be63-7032dcaf40ad",
   "metadata": {},
   "outputs": [],
   "source": []
  },
  {
   "cell_type": "code",
   "execution_count": null,
   "id": "ea1d988e-8dab-4fb9-9da5-63f92bf46533",
   "metadata": {},
   "outputs": [],
   "source": []
  },
  {
   "cell_type": "code",
   "execution_count": null,
   "id": "2e1a2773-efba-4239-80e4-5b15e1573aac",
   "metadata": {},
   "outputs": [],
   "source": []
  },
  {
   "cell_type": "code",
   "execution_count": null,
   "id": "c9b17607-db8f-476e-bce3-4fbd9d992a82",
   "metadata": {},
   "outputs": [],
   "source": []
  },
  {
   "cell_type": "code",
   "execution_count": null,
   "id": "80bfebdb-cff0-4c34-a2a2-e509d4b5eca1",
   "metadata": {},
   "outputs": [],
   "source": []
  },
  {
   "cell_type": "code",
   "execution_count": null,
   "id": "ce05bdb0-3da5-48da-a9f9-745bc18dcf85",
   "metadata": {},
   "outputs": [],
   "source": []
  },
  {
   "cell_type": "code",
   "execution_count": null,
   "id": "fa05f5de-be7b-47f2-8a0f-ac827de00053",
   "metadata": {},
   "outputs": [],
   "source": []
  },
  {
   "cell_type": "code",
   "execution_count": null,
   "id": "ed1024a6-0863-42fe-bee6-5467b14c3bb2",
   "metadata": {},
   "outputs": [],
   "source": []
  },
  {
   "cell_type": "code",
   "execution_count": null,
   "id": "274d15bf-cf1c-4019-b2a1-6aa7add69738",
   "metadata": {},
   "outputs": [],
   "source": []
  }
 ],
 "metadata": {
  "kernelspec": {
   "display_name": "Python 3",
   "language": "python",
   "name": "python3"
  },
  "language_info": {
   "codemirror_mode": {
    "name": "ipython",
    "version": 3
   },
   "file_extension": ".py",
   "mimetype": "text/x-python",
   "name": "python",
   "nbconvert_exporter": "python",
   "pygments_lexer": "ipython3",
   "version": "3.8.8"
  }
 },
 "nbformat": 4,
 "nbformat_minor": 5
}
