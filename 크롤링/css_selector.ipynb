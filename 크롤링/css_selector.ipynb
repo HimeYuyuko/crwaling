{
 "cells": [
  {
   "cell_type": "markdown",
   "id": "68da0e8a-0060-4f13-a589-2d883f4507f3",
   "metadata": {},
   "source": [
    "### CSS Selector\n",
    "- CSS 스타일을 적용 시킬 HTML 엘리먼트를 선택하는 방법"
   ]
  },
  {
   "cell_type": "code",
   "execution_count": null,
   "id": "4ad58ee4-7838-4d56-a218-073bcb93eb05",
   "metadata": {},
   "outputs": [],
   "source": [
    "# 1. Element Tag 이름으로 선택"
   ]
  },
  {
   "cell_type": "code",
   "execution_count": 2,
   "id": "8f367bc3-f092-4532-bafb-d297311a2f32",
   "metadata": {},
   "outputs": [
    {
     "data": {
      "text/html": [
       "<div id='kt'>\n",
       "    <div>응디시티1</div>\n",
       "    <p>응디시티2</p>\n",
       "    <span>응디시티3</span>\n",
       "</div>\n"
      ],
      "text/plain": [
       "<IPython.core.display.HTML object>"
      ]
     },
     "metadata": {},
     "output_type": "display_data"
    }
   ],
   "source": [
    "%%html\n",
    "<div id='kt'>\n",
    "    <div>응디시티1</div>\n",
    "    <p>응디시티2</p>\n",
    "    <span>응디시티3</span>\n",
    "</div>"
   ]
  },
  {
   "cell_type": "code",
   "execution_count": null,
   "id": "c44074e4-3b2b-4386-89ec-48044ab84d3a",
   "metadata": {},
   "outputs": [],
   "source": [
    "# 2. Tag의 id 값으로 선택\n",
    "# css selector: #kt2-->python2 선택"
   ]
  },
  {
   "cell_type": "code",
   "execution_count": 3,
   "id": "322beaa9-ac83-4c19-930a-c4c68d065f04",
   "metadata": {},
   "outputs": [
    {
     "data": {
      "text/html": [
       "<div id='kt'>\n",
       "    <p id='kt1'>응디시티1</p>\n",
       "    <p id='kt2'>응디시티2</p>\n",
       "    <p id='kt3'>응디시티3</p>\n",
       "</div>\n"
      ],
      "text/plain": [
       "<IPython.core.display.HTML object>"
      ]
     },
     "metadata": {},
     "output_type": "display_data"
    }
   ],
   "source": [
    "%%html\n",
    "<div id='kt'>\n",
    "    <p id='kt1'>응디시티1</p>\n",
    "    <p id='kt2'>응디시티2</p>\n",
    "    <p id='kt3'>응디시티3</p>\n",
    "</div>"
   ]
  },
  {
   "cell_type": "code",
   "execution_count": null,
   "id": "8327fd99-618f-43cc-96a4-c1dafe698001",
   "metadata": {},
   "outputs": [],
   "source": [
    "# 3. Tag의 class 값으로 선택\n",
    "# css Selector:.kt2"
   ]
  },
  {
   "cell_type": "code",
   "execution_count": 4,
   "id": "1af99cc9-0a3f-4d7f-ac55-f03591dea555",
   "metadata": {},
   "outputs": [
    {
     "data": {
      "text/html": [
       "<div id='kt'>\n",
       "    <p class='kt1'>응디시티1</p>\n",
       "    <p class='kt2'>응디시티2</p>\n",
       "    <p class='kt3'>응디시티3</p>\n",
       "</div>\n"
      ],
      "text/plain": [
       "<IPython.core.display.HTML object>"
      ]
     },
     "metadata": {},
     "output_type": "display_data"
    }
   ],
   "source": [
    "%%html\n",
    "<div id='kt'>\n",
    "    <p class='kt kt1'>응디시티1</p>\n",
    "    <p class='kt kt2'>응디시티2</p>\n",
    "    <p class='kt kt3'>응디시티3</p>\n",
    "</div>"
   ]
  },
  {
   "cell_type": "code",
   "execution_count": null,
   "id": "0797eab6-7ebe-4556-aa8a-79188734ccc6",
   "metadata": {},
   "outputs": [],
   "source": [
    "# 4. Tag의 attr값으로 선택\n",
    "# css secelotr: [value='?']"
   ]
  },
  {
   "cell_type": "code",
   "execution_count": 5,
   "id": "9db6be72-b93a-42db-a041-e021f190c6b5",
   "metadata": {},
   "outputs": [
    {
     "data": {
      "text/html": [
       "<p value='kt1'>응디시티1</p>\n",
       "<p value='kt2'>응디시티2</p>\n",
       "<p value='kt3'>응디시티3</p>\n"
      ],
      "text/plain": [
       "<IPython.core.display.HTML object>"
      ]
     },
     "metadata": {},
     "output_type": "display_data"
    }
   ],
   "source": [
    "%%html\n",
    "<p value='kt1'>응디시티1</p>\n",
    "<p value='kt2'>응디시티2</p>\n",
    "<p value='kt3'>응디시티3</p>"
   ]
  },
  {
   "cell_type": "code",
   "execution_count": 6,
   "id": "edf6e97c-aa77-4d11-b84f-d7a6a983d656",
   "metadata": {},
   "outputs": [],
   "source": [
    "# 5. 여러개의 엘리먼트 선택"
   ]
  },
  {
   "cell_type": "code",
   "execution_count": null,
   "id": "22c344f1-e7f6-4704-9c4f-c69229151988",
   "metadata": {},
   "outputs": [],
   "source": [
    "# not selector\n",
    "# class no 엘리먼트를 모드 선택하고, no2클래스를 갖는 앨리먼트"
   ]
  },
  {
   "cell_type": "code",
   "execution_count": 8,
   "id": "9e0958c2-3097-4164-8a34-049ebf6ceede",
   "metadata": {},
   "outputs": [
    {
     "data": {
      "text/html": [
       "<p class='no no1'>응디시티1</p>\n",
       "<p class='no no2'>응디시티2</p>\n",
       "<p class='no no3'>응디시티3</p>\n"
      ],
      "text/plain": [
       "<IPython.core.display.HTML object>"
      ]
     },
     "metadata": {},
     "output_type": "display_data"
    }
   ],
   "source": [
    "%%html\n",
    "<p class='no no1'>응디시티1</p>\n",
    "<p class='no no2'>응디시티2</p>\n",
    "<p class='no no3'>응디시티3</p>"
   ]
  },
  {
   "cell_type": "code",
   "execution_count": null,
   "id": "265a1086-12d5-453a-b432-a75db184569f",
   "metadata": {},
   "outputs": [],
   "source": [
    "# n번째 엘리먼트 선택\n",
    "# css selector: .py:nth-child(2): py2가 선택됨\n",
    "# .py 엘리먼트 중에서 2번째 :X\n",
    "# 순서가 잘못됨\n",
    "# 2번째 앨리먼트 중에서 .py 클래스를 갖는"
   ]
  },
  {
   "cell_type": "code",
   "execution_count": 9,
   "id": "f15babbe-7aea-4f6d-a10e-324d40f02101",
   "metadata": {},
   "outputs": [
    {
     "data": {
      "text/html": [
       "<div>\n",
       "<p class='py no1'>응디시티1</p>\n",
       "<p class='py no2'>응디시티2</p>\n",
       "<p class='py no3'>응디시티3</p>\n",
       "<div>\n"
      ],
      "text/plain": [
       "<IPython.core.display.HTML object>"
      ]
     },
     "metadata": {},
     "output_type": "display_data"
    }
   ],
   "source": [
    "%%html\n",
    "<div>\n",
    "<p class='py'>응디시티1</p>\n",
    "<p class='py'>응디시티2</p>\n",
    "<p class='py'>응디시티3</p>\n",
    "<div>"
   ]
  },
  {
   "cell_type": "code",
   "execution_count": null,
   "id": "c83124ff-c73a-403a-a902-5615c4a4da61",
   "metadata": {},
   "outputs": [],
   "source": [
    "# 6. 계층적 엘리먼트 선택\n",
    "# .wrap >p :inner1 선택\n",
    "# .wrap p: inner1,inner2"
   ]
  },
  {
   "cell_type": "code",
   "execution_count": null,
   "id": "8a4f996a-71b5-493c-8a79-e37b1111958f",
   "metadata": {},
   "outputs": [],
   "source": [
    "%%html\n",
    "<div class=\"wrap\">\n",
    "    <p>inner 1</p>\n",
    "    <div>\n",
    "        <p> inner 2</p>\n",
    "    </div>\n",
    "</div>"
   ]
  },
  {
   "cell_type": "code",
   "execution_count": null,
   "id": "71f657bc-1271-4b9a-a237-53ab0c8a8bbe",
   "metadata": {},
   "outputs": [],
   "source": [
    "# 여러개의 엘리먼트 선택\n",
    "# .py1,.py3: python1,python3 선택"
   ]
  },
  {
   "cell_type": "code",
   "execution_count": null,
   "id": "b8cf8329-0397-4161-8ba8-c4e92a7ec997",
   "metadata": {},
   "outputs": [],
   "source": [
    "%%html\n",
    "<div>\n",
    "<p class='py1'>응디시티1</p>\n",
    "<p class='py2'>응디시티2</p>\n",
    "<p class='py3'>응디시티3</p>\n",
    "<div>"
   ]
  },
  {
   "cell_type": "code",
   "execution_count": null,
   "id": "065a343c-fe2e-4f70-9d81-63e2725f1ca2",
   "metadata": {},
   "outputs": [],
   "source": [
    "# 엘리먼트 하나선택\n",
    "# teg 이름: span\n",
    "# id: #kt\n",
    "# class: .kt\n",
    "# attr: [value='kt']\n",
    "\n",
    "#여러개의 엘리먼트 선택\n",
    "# :not(.kt)\n",
    "# :nth-child(n)\n",
    "# .wrap >p :한단계 하위 엘리먼트\n",
    "# .wrap p:모든 하위 엘리먼트\n",
    "# .kt1,.kt2:선택하는 모든 엘리먼트 선택"
   ]
  },
  {
   "cell_type": "code",
   "execution_count": null,
   "id": "85582673-3ca9-43bb-b3a2-0ff5335ccf5d",
   "metadata": {},
   "outputs": [],
   "source": []
  }
 ],
 "metadata": {
  "kernelspec": {
   "display_name": "Python 3",
   "language": "python",
   "name": "python3"
  },
  "language_info": {
   "codemirror_mode": {
    "name": "ipython",
    "version": 3
   },
   "file_extension": ".py",
   "mimetype": "text/x-python",
   "name": "python",
   "nbconvert_exporter": "python",
   "pygments_lexer": "ipython3",
   "version": "3.8.8"
  }
 },
 "nbformat": 4,
 "nbformat_minor": 5
}
