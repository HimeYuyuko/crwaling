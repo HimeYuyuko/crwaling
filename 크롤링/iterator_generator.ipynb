{
 "cells": [
  {
   "cell_type": "code",
   "execution_count": null,
   "id": "0563f9e7-8af7-4ac8-a828-837f8989ea11",
   "metadata": {},
   "outputs": [],
   "source": [
    "# yield\n",
    "# iterable: 순서가 있는 데이터 집합: list, tuple\n",
    "# iterator: next 함수를 실행하여 값을 발생시키는 값 생성기\n",
    "# generator: iterator를 간단하게 구현한 문법"
   ]
  },
  {
   "cell_type": "code",
   "execution_count": 2,
   "id": "8be179a1-e4ce-4ef6-9da9-7fed1dfb56ae",
   "metadata": {},
   "outputs": [],
   "source": [
    "#iterator 만들기\n",
    "iterator = iter([1,2,3])"
   ]
  },
  {
   "cell_type": "code",
   "execution_count": 4,
   "id": "1ce4f519-b7e7-4538-920d-db2b0a7536c4",
   "metadata": {},
   "outputs": [
    {
     "data": {
      "text/plain": [
       "list_iterator"
      ]
     },
     "execution_count": 4,
     "metadata": {},
     "output_type": "execute_result"
    }
   ],
   "source": [
    "type(iterator)"
   ]
  },
  {
   "cell_type": "code",
   "execution_count": 15,
   "id": "05aef55f-a1b1-4e33-a9f5-2b9515457f67",
   "metadata": {},
   "outputs": [
    {
     "ename": "StopIteration",
     "evalue": "",
     "output_type": "error",
     "traceback": [
      "\u001b[1;31m---------------------------------------------------------------------------\u001b[0m",
      "\u001b[1;31mStopIteration\u001b[0m                             Traceback (most recent call last)",
      "\u001b[1;32m<ipython-input-15-4ce711c44abc>\u001b[0m in \u001b[0;36m<module>\u001b[1;34m\u001b[0m\n\u001b[1;32m----> 1\u001b[1;33m \u001b[0mnext\u001b[0m\u001b[1;33m(\u001b[0m\u001b[0miterator\u001b[0m\u001b[1;33m)\u001b[0m\u001b[1;33m\u001b[0m\u001b[1;33m\u001b[0m\u001b[0m\n\u001b[0m",
      "\u001b[1;31mStopIteration\u001b[0m: "
     ]
    }
   ],
   "source": [
    "next(iterator)"
   ]
  },
  {
   "cell_type": "code",
   "execution_count": null,
   "id": "d02e0a82-8a36-4e80-b01e-ef04bf30122e",
   "metadata": {},
   "outputs": [],
   "source": [
    "# 클래스로 iterator 만들기: 피보나치 수열"
   ]
  },
  {
   "cell_type": "code",
   "execution_count": 16,
   "id": "ac64fd7b-6ac3-455f-8dfb-ddcf08e8e176",
   "metadata": {},
   "outputs": [],
   "source": [
    "class Fib:\n",
    "    def __init__(self):\n",
    "        self.prev = 0\n",
    "        self.curr = 1\n",
    "    def __iter__(self):\n",
    "        return self\n",
    "    def __next__(self):\n",
    "        value = self.curr\n",
    "        self.curr += self.prev\n",
    "        self.prev = value\n",
    "        return value"
   ]
  },
  {
   "cell_type": "code",
   "execution_count": 17,
   "id": "4162af6b-eb2a-4d37-aef9-ecf2a7ff5b8e",
   "metadata": {},
   "outputs": [
    {
     "data": {
      "text/plain": [
       "__main__.Fib"
      ]
     },
     "execution_count": 17,
     "metadata": {},
     "output_type": "execute_result"
    }
   ],
   "source": [
    "fib = Fib()\n",
    "type(fib)"
   ]
  },
  {
   "cell_type": "code",
   "execution_count": 35,
   "id": "4bcb1c29-93dd-473d-b077-92d111e2bf9b",
   "metadata": {},
   "outputs": [
    {
     "data": {
      "text/plain": [
       "2584"
      ]
     },
     "execution_count": 35,
     "metadata": {},
     "output_type": "execute_result"
    }
   ],
   "source": [
    "next(fib)"
   ]
  },
  {
   "cell_type": "code",
   "execution_count": null,
   "id": "c433171d-5f22-4b7e-801e-4008d82d6d76",
   "metadata": {},
   "outputs": [],
   "source": [
    "# yield: 일반함수를 제너레이터로 만들어주는 명령어"
   ]
  },
  {
   "cell_type": "code",
   "execution_count": 36,
   "id": "b37c4e2b-f876-426a-ab19-032836d0320d",
   "metadata": {},
   "outputs": [],
   "source": [
    "def fib():\n",
    "    prev,curr=0,1\n",
    "    while True:\n",
    "        yield curr\n",
    "        prev,curr = curr, prev+curr"
   ]
  },
  {
   "cell_type": "code",
   "execution_count": 37,
   "id": "c3bd7127-94c8-45c6-9247-89170d9f3bef",
   "metadata": {},
   "outputs": [],
   "source": [
    "f = fib()"
   ]
  },
  {
   "cell_type": "code",
   "execution_count": 38,
   "id": "20ba9334-1765-4eca-af34-dcad2ba3ac0a",
   "metadata": {},
   "outputs": [
    {
     "data": {
      "text/plain": [
       "generator"
      ]
     },
     "execution_count": 38,
     "metadata": {},
     "output_type": "execute_result"
    }
   ],
   "source": [
    "type(f)"
   ]
  },
  {
   "cell_type": "code",
   "execution_count": 56,
   "id": "c662d62c-f0d0-4158-b7e0-9538610615ee",
   "metadata": {},
   "outputs": [
    {
     "data": {
      "text/plain": [
       "2584"
      ]
     },
     "execution_count": 56,
     "metadata": {},
     "output_type": "execute_result"
    }
   ],
   "source": [
    "next(f)"
   ]
  },
  {
   "cell_type": "code",
   "execution_count": null,
   "id": "ab573c29-452a-4ae4-bebc-6c30b25a6eaa",
   "metadata": {},
   "outputs": [],
   "source": [
    "# yield:함수를 호출할떄 return을 여러번 하는 방법"
   ]
  },
  {
   "cell_type": "code",
   "execution_count": 58,
   "id": "26badf1c-ebf9-4f82-92b4-20d2714f403a",
   "metadata": {},
   "outputs": [],
   "source": [
    "def gen():\n",
    "    yield 1\n",
    "    yield 2\n",
    "    yield 3\n",
    "g = gen()"
   ]
  },
  {
   "cell_type": "code",
   "execution_count": 63,
   "id": "e14b8ea1-0b31-472b-b995-1f1b0e37654f",
   "metadata": {},
   "outputs": [
    {
     "ename": "StopIteration",
     "evalue": "",
     "output_type": "error",
     "traceback": [
      "\u001b[1;31m---------------------------------------------------------------------------\u001b[0m",
      "\u001b[1;31mStopIteration\u001b[0m                             Traceback (most recent call last)",
      "\u001b[1;32m<ipython-input-63-e734f8aca5ac>\u001b[0m in \u001b[0;36m<module>\u001b[1;34m\u001b[0m\n\u001b[1;32m----> 1\u001b[1;33m \u001b[0mnext\u001b[0m\u001b[1;33m(\u001b[0m\u001b[0mg\u001b[0m\u001b[1;33m)\u001b[0m\u001b[1;33m\u001b[0m\u001b[1;33m\u001b[0m\u001b[0m\n\u001b[0m",
      "\u001b[1;31mStopIteration\u001b[0m: "
     ]
    }
   ],
   "source": [
    "next(g)"
   ]
  },
  {
   "cell_type": "code",
   "execution_count": null,
   "id": "bb30c964-7296-46d4-95ed-e6e5d76e3de6",
   "metadata": {},
   "outputs": [],
   "source": []
  },
  {
   "cell_type": "code",
   "execution_count": null,
   "id": "62bb61df-3d58-467d-b3ca-ecd1fb0de653",
   "metadata": {},
   "outputs": [],
   "source": []
  },
  {
   "cell_type": "code",
   "execution_count": null,
   "id": "54d240c4-2b13-46bf-b298-efe3e63828f1",
   "metadata": {},
   "outputs": [],
   "source": []
  },
  {
   "cell_type": "code",
   "execution_count": null,
   "id": "eb7b3be7-da6f-42e8-abe3-8148953d4143",
   "metadata": {},
   "outputs": [],
   "source": []
  },
  {
   "cell_type": "code",
   "execution_count": null,
   "id": "4a1bddfd-a254-41de-aed6-4bb919f3f770",
   "metadata": {},
   "outputs": [],
   "source": []
  },
  {
   "cell_type": "code",
   "execution_count": null,
   "id": "89595bb8-30d7-4ae9-aa7c-7800e4a0de5c",
   "metadata": {},
   "outputs": [],
   "source": []
  },
  {
   "cell_type": "code",
   "execution_count": null,
   "id": "34e1aece-542f-436c-b305-c13af241e640",
   "metadata": {},
   "outputs": [],
   "source": []
  },
  {
   "cell_type": "code",
   "execution_count": null,
   "id": "6d1be051-bd4c-4bf8-949e-7ae66a4606ca",
   "metadata": {},
   "outputs": [],
   "source": []
  },
  {
   "cell_type": "code",
   "execution_count": null,
   "id": "302848f4-e82f-46e7-94dd-595817a3f58f",
   "metadata": {},
   "outputs": [],
   "source": []
  },
  {
   "cell_type": "code",
   "execution_count": null,
   "id": "a032f18f-62a1-4887-86bf-ba615bb15183",
   "metadata": {},
   "outputs": [],
   "source": []
  }
 ],
 "metadata": {
  "kernelspec": {
   "display_name": "Python 3",
   "language": "python",
   "name": "python3"
  },
  "language_info": {
   "codemirror_mode": {
    "name": "ipython",
    "version": 3
   },
   "file_extension": ".py",
   "mimetype": "text/x-python",
   "name": "python",
   "nbconvert_exporter": "python",
   "pygments_lexer": "ipython3",
   "version": "3.8.8"
  }
 },
 "nbformat": 4,
 "nbformat_minor": 5
}
