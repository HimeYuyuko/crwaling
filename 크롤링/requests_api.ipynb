{
 "cells": [
  {
   "cell_type": "markdown",
   "id": "dac67ad6-76f8-4b21-87f7-4c1f8be8e88e",
   "metadata": {},
   "source": [
    "# API\n",
    "- Application Programming Interface\n",
    "- api를 이용해서 데이터를 수집하는 것은 서비스에 데이터를 제공하는 공식적인 방법으로 데이터 수집\n",
    "- naver api: papago api:번역서비스"
   ]
  },
  {
   "cell_type": "code",
   "execution_count": 1,
   "id": "cd8b3267-ddb3-47b4-8514-a182dbe22a80",
   "metadata": {},
   "outputs": [],
   "source": [
    "import pandas as pd\n",
    "import requests,json"
   ]
  },
  {
   "cell_type": "code",
   "execution_count": 2,
   "id": "22970991-5b17-49a7-92ea-c74f4c3bd892",
   "metadata": {},
   "outputs": [],
   "source": [
    "# 1. APP 등록>app_key(request_token)\n",
    "# https://developers.naver.com"
   ]
  },
  {
   "cell_type": "code",
   "execution_count": 3,
   "id": "e1b056d0-fb64-402c-ae57-e47f177c9f75",
   "metadata": {},
   "outputs": [],
   "source": [
    "CLIENT_ID, CLIENT_SECRET = \"36inOk7JtnjaJvUo9EbY\", \"zoTcBs3u7a\""
   ]
  },
  {
   "cell_type": "code",
   "execution_count": null,
   "id": "d25bae30-7c02-4836-80cf-0f4baee89d15",
   "metadata": {},
   "outputs": [],
   "source": []
  },
  {
   "cell_type": "code",
   "execution_count": 4,
   "id": "bfa28299-0df3-40bd-a392-1402690e3ac6",
   "metadata": {},
   "outputs": [],
   "source": [
    "# 2. Naver API Document확인>URL"
   ]
  },
  {
   "cell_type": "code",
   "execution_count": 5,
   "id": "09c97e19-5698-4676-be5c-e9dc6e3bd7ff",
   "metadata": {},
   "outputs": [],
   "source": [
    "txt= \"노무현의 명곡중 하나인 응디씨티\"\n",
    "url =\"https://openapi.naver.com/v1/papago/n2mt\"\n",
    "params = {\n",
    "    \"source\":\"ko\",\n",
    "    \"target\":\"ja\",\n",
    "    \"text\":txt\n",
    "}\n",
    "headers={\n",
    "    \"Content-Type\":\"application/json\",\n",
    "    \"X-Naver-Client-Id\":CLIENT_ID,\n",
    "    \"X-Naver-Client-Secret\":CLIENT_SECRET\n",
    "}"
   ]
  },
  {
   "cell_type": "code",
   "execution_count": 6,
   "id": "4391c752-4a2b-436b-bd55-93fc260a051e",
   "metadata": {},
   "outputs": [],
   "source": [
    "# 3. request(url,app_key)"
   ]
  },
  {
   "cell_type": "code",
   "execution_count": 7,
   "id": "d85fda55-d146-4824-9f74-25f37fb9f0d5",
   "metadata": {},
   "outputs": [
    {
     "data": {
      "text/plain": [
       "<Response [200]>"
      ]
     },
     "execution_count": 7,
     "metadata": {},
     "output_type": "execute_result"
    }
   ],
   "source": [
    "#json.dumps():인터넷 트래픽에서 영문, 숫자, 특수문자만 사용가능\n",
    "#한글과 같은 문자를 인코딩(영문,숫자,특수문자)\n",
    "response = requests.post(url,json.dumps(params),headers=headers)\n",
    "response"
   ]
  },
  {
   "cell_type": "code",
   "execution_count": 8,
   "id": "2f93550f-efa6-4a35-9bcd-b56c9ffe8af1",
   "metadata": {},
   "outputs": [
    {
     "data": {
      "text/plain": [
       "'{\"message\":{\"result\":{\"srcLangType\":\"ko\",\"tarLangType\":\"ja\",\"translatedText\":\"盧武鉉の名曲の一つであるウンディーシティ\",\"engineType\":\"N2MT\",\"pivot\":null,\"dict\":null,\"tarDict\":null},\"@type\":\"response\",\"@service\":\"naverservice.nmt.proxy\",\"@version\":\"1.0.0\"}}'"
      ]
     },
     "execution_count": 8,
     "metadata": {},
     "output_type": "execute_result"
    }
   ],
   "source": [
    "response.text"
   ]
  },
  {
   "cell_type": "code",
   "execution_count": 9,
   "id": "320d77bb-80a9-41f1-8cab-2060a205dba4",
   "metadata": {},
   "outputs": [],
   "source": [
    "# 4. Json(str) > lsit,dic>DataFrame"
   ]
  },
  {
   "cell_type": "code",
   "execution_count": 10,
   "id": "b7d2af27-6449-4287-add8-de463aac0bc6",
   "metadata": {},
   "outputs": [
    {
     "data": {
      "text/plain": [
       "'盧武鉉の名曲の一つであるウンディーシティ'"
      ]
     },
     "execution_count": 10,
     "metadata": {},
     "output_type": "execute_result"
    }
   ],
   "source": [
    "txt_ja=response.json()[\"message\"][\"result\"][\"translatedText\"]\n",
    "txt_ja"
   ]
  },
  {
   "cell_type": "code",
   "execution_count": 11,
   "id": "d96dcdfb-203f-4f5f-965f-02251ab6b00e",
   "metadata": {},
   "outputs": [],
   "source": [
    "# 5. 함수로 변경"
   ]
  },
  {
   "cell_type": "code",
   "execution_count": 12,
   "id": "33e61200-b305-4e0a-af81-baf6417ebafa",
   "metadata": {},
   "outputs": [],
   "source": [
    "def translate(txt):\n",
    "    #txt=input()\n",
    "    url =\"https://openapi.naver.com/v1/papago/n2mt\"\n",
    "    params = {\n",
    "        \"source\":\"ko\",\n",
    "        \"target\":\"ja\",\n",
    "        \"text\":txt\n",
    "    }\n",
    "    headers={\n",
    "        \"Content-Type\":\"application/json\",\n",
    "        \"X-Naver-Client-Id\":CLIENT_ID,\n",
    "        \"X-Naver-Client-Secret\":CLIENT_SECRET\n",
    "    }\n",
    "    response = requests.post(url,json.dumps(params),headers=headers)\n",
    "    return response.json()['message']['result']['translatedText']"
   ]
  },
  {
   "cell_type": "code",
   "execution_count": 13,
   "id": "e8c850bf-feeb-4cdf-8fb1-9e3b9eabd532",
   "metadata": {},
   "outputs": [
    {
     "data": {
      "text/plain": [
       "'ウンディーシティはウンディーが揺れる歌だ'"
      ]
     },
     "execution_count": 13,
     "metadata": {},
     "output_type": "execute_result"
    }
   ],
   "source": [
    "txt = \"응디씨티는 응디가 흔들리는 노래다\"\n",
    "txt_ja = translate(txt)\n",
    "txt_ja"
   ]
  },
  {
   "cell_type": "code",
   "execution_count": 14,
   "id": "4d688c42-8f34-4ea8-ba7f-f9518307a7e1",
   "metadata": {},
   "outputs": [],
   "source": [
    "#6. 한글 excel 파일을 일본 excel 파일로 변경"
   ]
  },
  {
   "cell_type": "code",
   "execution_count": 15,
   "id": "9a130991-528b-4824-9494-9d432aa8d129",
   "metadata": {},
   "outputs": [
    {
     "name": "stdout",
     "output_type": "stream",
     "text": [
      " C 드라이브의 볼륨에는 이름이 없습니다.\n",
      " 볼륨 일련 번호: 7C6C-FC35\n",
      "\n",
      " C:\\Users\\User\\Desktop\\python\\크롤링 디렉터리\n",
      "\n",
      "2022-08-04  오전 09:22    <DIR>          .\n",
      "2022-08-04  오전 09:22    <DIR>          ..\n",
      "2022-08-03  오후 03:42    <DIR>          .ipynb_checkpoints\n",
      "2022-08-03  오후 04:44            10,060 covid.xlsx\n",
      "2022-08-03  오후 04:53             6,168 covid_jp.xlsx\n",
      "2022-08-03  오전 11:32             5,168 Crwaling Naver Stock Datas.ipynb\n",
      "2022-08-03  오전 09:58    <DIR>          day1-20220803T002955Z-001\n",
      "2022-08-03  오후 02:42         3,368,871 drive-download-20220803T054159Z-001.zip\n",
      "2022-08-04  오전 09:22            54,217 Request json.ipynb\n",
      "2022-08-04  오전 09:22            14,977 requests_api.ipynb\n",
      "               6개 파일           3,459,461 바이트\n",
      "               4개 디렉터리  132,205,670,400 바이트 남음\n"
     ]
    }
   ],
   "source": [
    "%ls"
   ]
  },
  {
   "cell_type": "code",
   "execution_count": 16,
   "id": "714341e5-b9ab-431d-8da3-aa80c183fbc1",
   "metadata": {},
   "outputs": [
    {
     "data": {
      "text/html": [
       "<div>\n",
       "<style scoped>\n",
       "    .dataframe tbody tr th:only-of-type {\n",
       "        vertical-align: middle;\n",
       "    }\n",
       "\n",
       "    .dataframe tbody tr th {\n",
       "        vertical-align: top;\n",
       "    }\n",
       "\n",
       "    .dataframe thead th {\n",
       "        text-align: right;\n",
       "    }\n",
       "</style>\n",
       "<table border=\"1\" class=\"dataframe\">\n",
       "  <thead>\n",
       "    <tr style=\"text-align: right;\">\n",
       "      <th></th>\n",
       "      <th>category</th>\n",
       "      <th>title</th>\n",
       "    </tr>\n",
       "  </thead>\n",
       "  <tbody>\n",
       "    <tr>\n",
       "      <th>4</th>\n",
       "      <td>104</td>\n",
       "      <td>\"코로나 확진자 '0명'인 날은 절대 오지 않는다\" 美전문가</td>\n",
       "    </tr>\n",
       "    <tr>\n",
       "      <th>5</th>\n",
       "      <td>104</td>\n",
       "      <td>올림픽 다가오는데 도쿄 코로나 확산 빨라져...일주일새 25％↑</td>\n",
       "    </tr>\n",
       "  </tbody>\n",
       "</table>\n",
       "</div>"
      ],
      "text/plain": [
       "   category                                title\n",
       "4       104    \"코로나 확진자 '0명'인 날은 절대 오지 않는다\" 美전문가\n",
       "5       104  올림픽 다가오는데 도쿄 코로나 확산 빨라져...일주일새 25％↑"
      ]
     },
     "execution_count": 16,
     "metadata": {},
     "output_type": "execute_result"
    }
   ],
   "source": [
    "covid = pd.read_excel(\"covid.xlsx\")[[\"category\",\"title\"]]\n",
    "covid.tail(2)"
   ]
  },
  {
   "cell_type": "code",
   "execution_count": 17,
   "id": "ce295348-a841-4e96-a1a0-c59ce27c7da4",
   "metadata": {},
   "outputs": [],
   "source": [
    "covide_ja=covid[\"title\"].apply(translate)"
   ]
  },
  {
   "cell_type": "code",
   "execution_count": 18,
   "id": "4f4af24b-c1bb-46e6-b444-45514d19ef85",
   "metadata": {},
   "outputs": [],
   "source": [
    "covid['title_ja']=covide_ja\n",
    "#utf-8-sig: exel에서 사용하는 인코딩 방식과 호환이 되는 인코딩 방식\n",
    "covid.to_excel('covid_jp.xlsx',index=False,encoding=\"utf-8-sig\")"
   ]
  },
  {
   "cell_type": "code",
   "execution_count": 19,
   "id": "c3a9b910-94e8-407a-8627-d65e7de7d2f4",
   "metadata": {},
   "outputs": [
    {
     "name": "stdout",
     "output_type": "stream",
     "text": [
      " C 드라이브의 볼륨에는 이름이 없습니다.\n",
      " 볼륨 일련 번호: 7C6C-FC35\n",
      "\n",
      " C:\\Users\\User\\Desktop\\python\\크롤링 디렉터리\n",
      "\n",
      "2022-08-04  오전 09:22    <DIR>          .\n",
      "2022-08-04  오전 09:22    <DIR>          ..\n",
      "2022-08-03  오후 03:42    <DIR>          .ipynb_checkpoints\n",
      "2022-08-03  오후 04:44            10,060 covid.xlsx\n",
      "2022-08-04  오전 09:23             6,168 covid_jp.xlsx\n",
      "2022-08-03  오전 11:32             5,168 Crwaling Naver Stock Datas.ipynb\n",
      "2022-08-03  오전 09:58    <DIR>          day1-20220803T002955Z-001\n",
      "2022-08-03  오후 02:42         3,368,871 drive-download-20220803T054159Z-001.zip\n",
      "2022-08-04  오전 09:22            54,217 Request json.ipynb\n",
      "2022-08-04  오전 09:22            14,977 requests_api.ipynb\n",
      "               6개 파일           3,459,461 바이트\n",
      "               4개 디렉터리  132,205,604,864 바이트 남음\n"
     ]
    }
   ],
   "source": [
    "%ls"
   ]
  },
  {
   "cell_type": "code",
   "execution_count": 20,
   "id": "e6540a28-b364-4c4d-8e02-8a21c4fa0781",
   "metadata": {},
   "outputs": [],
   "source": [
    "#함수 :Scope\n",
    "#변수를 선언 할때 함수 밖에서 선언하는 것과 안에서 선언하는 변수의 메모리저장 공간이 다름\n",
    "#전역(Global)영역: 함수 밖의 영역\n",
    "#지역(Local)영역: 함수 안의 영역"
   ]
  },
  {
   "cell_type": "code",
   "execution_count": 21,
   "id": "91e35873-376f-4a7a-a61c-d41903168653",
   "metadata": {},
   "outputs": [
    {
     "name": "stdout",
     "output_type": "stream",
     "text": [
      "20\n"
     ]
    }
   ],
   "source": [
    "data = 10\n",
    "def change():\n",
    "    #global data-->전역변수를 지역영역으로 가져옴\n",
    "    global data\n",
    "    data =20\n",
    "change()\n",
    "print(data)"
   ]
  },
  {
   "cell_type": "markdown",
   "id": "00d5b16d-2f53-41dd-b60a-967aee374adc",
   "metadata": {},
   "source": [
    "# 실습과제\n",
    "* http://finance.daum.net/exchanges\n",
    "* headers : referer,user-agent설정"
   ]
  },
  {
   "cell_type": "code",
   "execution_count": 59,
   "id": "445464c7-8378-4482-b38a-0ad303a3238c",
   "metadata": {},
   "outputs": [],
   "source": [
    "def DExRage(page,pagesize):\n",
    "    url =f\"https://finance.daum.net/api/exchanges/FRX.KRWUSD/days?perPage={pagesize}&page={page}&pagination=true\"\n",
    "    header={\n",
    "        'referer' : 'https://m.finance.daum.net/',\n",
    "        'user-agent' : 'Mozilla/5.0 (Windows NT 10.0; Win64; x64) AppleWebKit/537.36 (KHTML, like Gecko) Chrome/104.0.0.0 Safari/537.36'\n",
    "    }\n",
    "    response = requests.get(url,headers=header)\n",
    "    data = response.json()\n",
    "    data =data['data']\n",
    "    return pd.DataFrame(data)[['date','basePrice']]"
   ]
  },
  {
   "cell_type": "code",
   "execution_count": 60,
   "id": "1b8cd21b-ab98-4157-9236-43522f00a513",
   "metadata": {},
   "outputs": [
    {
     "data": {
      "text/html": [
       "<div>\n",
       "<style scoped>\n",
       "    .dataframe tbody tr th:only-of-type {\n",
       "        vertical-align: middle;\n",
       "    }\n",
       "\n",
       "    .dataframe tbody tr th {\n",
       "        vertical-align: top;\n",
       "    }\n",
       "\n",
       "    .dataframe thead th {\n",
       "        text-align: right;\n",
       "    }\n",
       "</style>\n",
       "<table border=\"1\" class=\"dataframe\">\n",
       "  <thead>\n",
       "    <tr style=\"text-align: right;\">\n",
       "      <th></th>\n",
       "      <th>date</th>\n",
       "      <th>basePrice</th>\n",
       "    </tr>\n",
       "  </thead>\n",
       "  <tbody>\n",
       "    <tr>\n",
       "      <th>0</th>\n",
       "      <td>2022-08-04 11:07:53</td>\n",
       "      <td>1309.0</td>\n",
       "    </tr>\n",
       "    <tr>\n",
       "      <th>1</th>\n",
       "      <td>2022-08-03 23:56:54</td>\n",
       "      <td>1312.0</td>\n",
       "    </tr>\n",
       "    <tr>\n",
       "      <th>2</th>\n",
       "      <td>2022-08-02 23:43:30</td>\n",
       "      <td>1312.0</td>\n",
       "    </tr>\n",
       "    <tr>\n",
       "      <th>3</th>\n",
       "      <td>2022-08-01 23:46:59</td>\n",
       "      <td>1305.0</td>\n",
       "    </tr>\n",
       "    <tr>\n",
       "      <th>4</th>\n",
       "      <td>2022-07-31 16:17:45</td>\n",
       "      <td>1304.5</td>\n",
       "    </tr>\n",
       "    <tr>\n",
       "      <th>5</th>\n",
       "      <td>2022-07-29 23:57:09</td>\n",
       "      <td>1307.0</td>\n",
       "    </tr>\n",
       "    <tr>\n",
       "      <th>6</th>\n",
       "      <td>2022-07-28 23:42:51</td>\n",
       "      <td>1303.5</td>\n",
       "    </tr>\n",
       "    <tr>\n",
       "      <th>7</th>\n",
       "      <td>2022-07-27 23:48:14</td>\n",
       "      <td>1314.0</td>\n",
       "    </tr>\n",
       "    <tr>\n",
       "      <th>8</th>\n",
       "      <td>2022-07-26 22:31:59</td>\n",
       "      <td>1311.0</td>\n",
       "    </tr>\n",
       "    <tr>\n",
       "      <th>9</th>\n",
       "      <td>2022-07-25 23:36:56</td>\n",
       "      <td>1312.0</td>\n",
       "    </tr>\n",
       "  </tbody>\n",
       "</table>\n",
       "</div>"
      ],
      "text/plain": [
       "                  date  basePrice\n",
       "0  2022-08-04 11:07:53     1309.0\n",
       "1  2022-08-03 23:56:54     1312.0\n",
       "2  2022-08-02 23:43:30     1312.0\n",
       "3  2022-08-01 23:46:59     1305.0\n",
       "4  2022-07-31 16:17:45     1304.5\n",
       "5  2022-07-29 23:57:09     1307.0\n",
       "6  2022-07-28 23:42:51     1303.5\n",
       "7  2022-07-27 23:48:14     1314.0\n",
       "8  2022-07-26 22:31:59     1311.0\n",
       "9  2022-07-25 23:36:56     1312.0"
      ]
     },
     "execution_count": 60,
     "metadata": {},
     "output_type": "execute_result"
    }
   ],
   "source": [
    "DExRage(1,10)"
   ]
  },
  {
   "cell_type": "code",
   "execution_count": 58,
   "id": "837458ec-2ed6-47bb-a54d-149d6b2a4c02",
   "metadata": {},
   "outputs": [
    {
     "data": {
      "text/html": [
       "<div>\n",
       "<style scoped>\n",
       "    .dataframe tbody tr th:only-of-type {\n",
       "        vertical-align: middle;\n",
       "    }\n",
       "\n",
       "    .dataframe tbody tr th {\n",
       "        vertical-align: top;\n",
       "    }\n",
       "\n",
       "    .dataframe thead th {\n",
       "        text-align: right;\n",
       "    }\n",
       "</style>\n",
       "<table border=\"1\" class=\"dataframe\">\n",
       "  <thead>\n",
       "    <tr style=\"text-align: right;\">\n",
       "      <th></th>\n",
       "      <th>date</th>\n",
       "      <th>basePrice</th>\n",
       "    </tr>\n",
       "  </thead>\n",
       "  <tbody>\n",
       "    <tr>\n",
       "      <th>0</th>\n",
       "      <td>2022-07-22 23:41:45</td>\n",
       "      <td>1310.0</td>\n",
       "    </tr>\n",
       "    <tr>\n",
       "      <th>1</th>\n",
       "      <td>2022-07-21 23:19:42</td>\n",
       "      <td>1315.0</td>\n",
       "    </tr>\n",
       "    <tr>\n",
       "      <th>2</th>\n",
       "      <td>2022-07-20 23:53:08</td>\n",
       "      <td>1312.0</td>\n",
       "    </tr>\n",
       "    <tr>\n",
       "      <th>3</th>\n",
       "      <td>2022-07-19 23:36:23</td>\n",
       "      <td>1309.0</td>\n",
       "    </tr>\n",
       "    <tr>\n",
       "      <th>4</th>\n",
       "      <td>2022-07-18 23:45:08</td>\n",
       "      <td>1315.5</td>\n",
       "    </tr>\n",
       "    <tr>\n",
       "      <th>5</th>\n",
       "      <td>2022-07-15 21:49:49</td>\n",
       "      <td>1325.0</td>\n",
       "    </tr>\n",
       "    <tr>\n",
       "      <th>6</th>\n",
       "      <td>2022-07-14 23:39:58</td>\n",
       "      <td>1324.0</td>\n",
       "    </tr>\n",
       "    <tr>\n",
       "      <th>7</th>\n",
       "      <td>2022-07-13 23:53:02</td>\n",
       "      <td>1305.0</td>\n",
       "    </tr>\n",
       "    <tr>\n",
       "      <th>8</th>\n",
       "      <td>2022-07-12 23:23:57</td>\n",
       "      <td>1309.0</td>\n",
       "    </tr>\n",
       "    <tr>\n",
       "      <th>9</th>\n",
       "      <td>2022-07-11 23:39:20</td>\n",
       "      <td>1314.0</td>\n",
       "    </tr>\n",
       "  </tbody>\n",
       "</table>\n",
       "</div>"
      ],
      "text/plain": [
       "                  date  basePrice\n",
       "0  2022-07-22 23:41:45     1310.0\n",
       "1  2022-07-21 23:19:42     1315.0\n",
       "2  2022-07-20 23:53:08     1312.0\n",
       "3  2022-07-19 23:36:23     1309.0\n",
       "4  2022-07-18 23:45:08     1315.5\n",
       "5  2022-07-15 21:49:49     1325.0\n",
       "6  2022-07-14 23:39:58     1324.0\n",
       "7  2022-07-13 23:53:02     1305.0\n",
       "8  2022-07-12 23:23:57     1309.0\n",
       "9  2022-07-11 23:39:20     1314.0"
      ]
     },
     "execution_count": 58,
     "metadata": {},
     "output_type": "execute_result"
    }
   ],
   "source": [
    "url =f\"https://finance.daum.net/api/exchanges/FRX.KRWUSD/days?perPage=10&page=2&pagination=true\"\n",
    "headers={\n",
    "    'referer' : 'https://m.finance.daum.net/',\n",
    "    'user-agent' : 'Mozilla/5.0 (Windows NT 10.0; Win64; x64) AppleWebKit/537.36 (KHTML, like Gecko) Chrome/104.0.0.0 Safari/537.36'\n",
    "}\n",
    "response2 = requests.get(url,json.dumps(params),headers=header)\n",
    "data = response2.json()\n",
    "data =data['data']\n",
    "daum =pd.DataFrame(data)[['date','basePrice']]\n",
    "daum"
   ]
  },
  {
   "cell_type": "code",
   "execution_count": null,
   "id": "9989789b-343e-4092-96d8-1dc4b05a860b",
   "metadata": {},
   "outputs": [],
   "source": [
    "#106b9675-226c-42c9-9640-9b73d3f63808"
   ]
  },
  {
   "cell_type": "code",
   "execution_count": null,
   "id": "36ede0e4-d28e-4a78-a9a1-e77c90afbeb7",
   "metadata": {},
   "outputs": [],
   "source": []
  },
  {
   "cell_type": "code",
   "execution_count": null,
   "id": "3e129fb0-776d-43dc-861d-3f94005b833b",
   "metadata": {},
   "outputs": [],
   "source": []
  },
  {
   "cell_type": "code",
   "execution_count": null,
   "id": "93f187dd-7ae8-46bf-864c-5aa62cce4608",
   "metadata": {},
   "outputs": [],
   "source": []
  },
  {
   "cell_type": "code",
   "execution_count": null,
   "id": "96119e86-5f25-4e20-944b-633ea56c47a7",
   "metadata": {},
   "outputs": [],
   "source": []
  },
  {
   "cell_type": "code",
   "execution_count": null,
   "id": "915ae8e4-f947-4bd0-9ef5-d93d1aa2cfd8",
   "metadata": {},
   "outputs": [],
   "source": []
  },
  {
   "cell_type": "code",
   "execution_count": null,
   "id": "0ba45b1e-bb71-41b3-a8c2-361283787bbf",
   "metadata": {},
   "outputs": [],
   "source": []
  },
  {
   "cell_type": "code",
   "execution_count": null,
   "id": "9af35421-b9cc-4fa8-8902-6b0f2669b1eb",
   "metadata": {},
   "outputs": [],
   "source": []
  }
 ],
 "metadata": {
  "kernelspec": {
   "display_name": "Python 3",
   "language": "python",
   "name": "python3"
  },
  "language_info": {
   "codemirror_mode": {
    "name": "ipython",
    "version": 3
   },
   "file_extension": ".py",
   "mimetype": "text/x-python",
   "name": "python",
   "nbconvert_exporter": "python",
   "pygments_lexer": "ipython3",
   "version": "3.8.8"
  }
 },
 "nbformat": 4,
 "nbformat_minor": 5
}
