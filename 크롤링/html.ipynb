{
 "cells": [
  {
   "cell_type": "markdown",
   "id": "be7e9459-b604-4247-89ae-5f7cd87bca1d",
   "metadata": {},
   "source": [
    "### HTML\n",
    "- 웹문서를 작성하는 언어\n",
    "- 구성요소\n",
    "    - Document: 한페이지를 나타내는 코드\n",
    "    - Element: 하나의 레이아웃 : Element가 모여서 Document를 만듬\n",
    "    - Tag : Element의 종류를 정의: 시작태그 + 끝태그 = Element\n",
    "    - Attribute : 속성값: 시작태그에서 태그의 기능 정의\n",
    "        - id : Element를 특정하는 페이지 내에서 유일한 값\n",
    "        - class : Element를 지정하는 값으로 페이지 내에서 여러개 사용 가능\n",
    "        - attribute : id, class를 제외한 나머지 속성값\n",
    "    - Text: 시작 태그와 끝 태그 사이의 문자열\n",
    "- 엘리먼트는 계층적 구조를 갖습니다."
   ]
  },
  {
   "cell_type": "code",
   "execution_count": 3,
   "id": "318c7021-2ba6-415f-aa2b-a03d4925b905",
   "metadata": {},
   "outputs": [
    {
     "data": {
      "text/html": [
       "<div class=\"wrapper\">\n",
       "    <button id=\"b1\" class=\"btn no1\" value=\"1\">Html 1</button>\n",
       "    <button id=\"b2\" class=\"btn no2\" value=\"2\">Html 2</button>\n",
       "    <p>html3</p>\n",
       "</div>\n"
      ],
      "text/plain": [
       "<IPython.core.display.HTML object>"
      ]
     },
     "metadata": {},
     "output_type": "display_data"
    }
   ],
   "source": [
    "%%html\n",
    "<div class=\"wrapper\">\n",
    "    <button id=\"b1\" class=\"btn no1\" value=\"1\">Html 1</button>\n",
    "    <button id=\"b2\" class=\"btn no2\" value=\"2\">Html 2</button>\n",
    "    <p>html3</p>\n",
    "</div>"
   ]
  },
  {
   "cell_type": "code",
   "execution_count": null,
   "id": "9774d1a1-f868-49a8-866b-f7f2f6722dde",
   "metadata": {},
   "outputs": [],
   "source": [
    "# P: 한줄의 문자열 출력"
   ]
  },
  {
   "cell_type": "code",
   "execution_count": null,
   "id": "6c93b0c1-d7eb-4a80-916c-d94ac2cd8fe0",
   "metadata": {},
   "outputs": [],
   "source": [
    "%%html\n",
    "<p>응디</p>\n",
    "<p>응디2</p>"
   ]
  },
  {
   "cell_type": "code",
   "execution_count": 4,
   "id": "28eab41f-142a-463e-a955-0657b6f33156",
   "metadata": {},
   "outputs": [],
   "source": [
    "# span : 한블럭의 문자열 출력"
   ]
  },
  {
   "cell_type": "code",
   "execution_count": null,
   "id": "caa2578c-d67a-4dd3-b051-f0bb739b6d8c",
   "metadata": {},
   "outputs": [],
   "source": [
    "%%html\n",
    "<span>응디</span>\n",
    "<span>응디2</span>"
   ]
  },
  {
   "cell_type": "code",
   "execution_count": null,
   "id": "ca468517-d1dc-4766-b0ed-7286014c4cec",
   "metadata": {},
   "outputs": [],
   "source": [
    "# ul li:리스트 문자열 출력"
   ]
  },
  {
   "cell_type": "code",
   "execution_count": 5,
   "id": "ec231b6a-0a49-4790-8035-30c239306a08",
   "metadata": {},
   "outputs": [
    {
     "data": {
      "text/html": [
       "<ul>\n",
       "    <li>응디</li>\n",
       "    <li>응디2</li>\n",
       "</ul>\n"
      ],
      "text/plain": [
       "<IPython.core.display.HTML object>"
      ]
     },
     "metadata": {},
     "output_type": "display_data"
    }
   ],
   "source": [
    "%%html\n",
    "<ul>\n",
    "    <li>응디</li>\n",
    "    <li>응디2</li>\n",
    "</ul>"
   ]
  },
  {
   "cell_type": "code",
   "execution_count": 6,
   "id": "9a3830cb-34bc-4e15-841e-43edb85b070a",
   "metadata": {},
   "outputs": [],
   "source": [
    "# a는 링크를 나타내는 태그"
   ]
  },
  {
   "cell_type": "code",
   "execution_count": 9,
   "id": "da31e7ef-e92b-4420-92b8-415eaad98f3f",
   "metadata": {},
   "outputs": [
    {
     "data": {
      "text/html": [
       "<a href=\"https://www.naver.com\" target=\"_blink\">click</a>\n"
      ],
      "text/plain": [
       "<IPython.core.display.HTML object>"
      ]
     },
     "metadata": {},
     "output_type": "display_data"
    }
   ],
   "source": [
    "%%html\n",
    "<a href=\"https://www.naver.com\" target=\"_blink\">click</a>"
   ]
  },
  {
   "cell_type": "code",
   "execution_count": null,
   "id": "74b3084b-32ce-48c4-8a73-791bfaa3af95",
   "metadata": {},
   "outputs": [],
   "source": [
    "# img: 이미지를 출력하는 태그"
   ]
  },
  {
   "cell_type": "code",
   "execution_count": 10,
   "id": "6f12f8ea-fff0-44d1-8010-5a301a2eb7b7",
   "metadata": {},
   "outputs": [
    {
     "data": {
      "text/html": [
       "<img src=\"https://cfm.kt.com/images/v2/layout/gnb-ktlogo.png\">\n"
      ],
      "text/plain": [
       "<IPython.core.display.HTML object>"
      ]
     },
     "metadata": {},
     "output_type": "display_data"
    }
   ],
   "source": [
    "%%html\n",
    "<img src=\"https://cfm.kt.com/images/v2/layout/gnb-ktlogo.png\">"
   ]
  },
  {
   "cell_type": "code",
   "execution_count": null,
   "id": "e73492d6-c586-4ead-860d-0fc8d2747fa7",
   "metadata": {},
   "outputs": [],
   "source": [
    "# iframe: 외부 url링크에 해당하는 웹페이즈 출력"
   ]
  },
  {
   "cell_type": "code",
   "execution_count": 11,
   "id": "e78f1c8f-356c-4236-a479-6f6294ca594f",
   "metadata": {},
   "outputs": [
    {
     "data": {
      "text/html": [
       "<iframe src=\"https://kt.com\" width=auto heigt=auto>\n"
      ],
      "text/plain": [
       "<IPython.core.display.HTML object>"
      ]
     },
     "metadata": {},
     "output_type": "display_data"
    }
   ],
   "source": [
    "%%html\n",
    "<iframe src=\"https://kt.com\" width=auto heigt=auto>"
   ]
  },
  {
   "cell_type": "code",
   "execution_count": null,
   "id": "a8add5f3-e17b-4d25-b653-aacf0c296738",
   "metadata": {},
   "outputs": [],
   "source": [
    "# div: 레이아웃을 나타내는 태그"
   ]
  },
  {
   "cell_type": "code",
   "execution_count": null,
   "id": "96cf7bbb-7f50-4633-b147-54d00385c546",
   "metadata": {},
   "outputs": [],
   "source": [
    "%%html\n",
    "<div>\n",
    "    <p>응디</p>\n",
    "    <p>응디2</p>\n",
    "    <p>html3</p>\n",
    "</div>\n",
    "<div>\n",
    "    <p>응디3</p>\n",
    "</div>"
   ]
  },
  {
   "cell_type": "code",
   "execution_count": null,
   "id": "4dc4bce7-a557-466c-8276-c6d688c5ad3d",
   "metadata": {},
   "outputs": [],
   "source": [
    "# table: 행열 데이터를 출력"
   ]
  },
  {
   "cell_type": "code",
   "execution_count": 15,
   "id": "e1e6c64b-22fd-4247-9996-c1301a92955a",
   "metadata": {},
   "outputs": [
    {
     "data": {
      "text/html": [
       "<table>\n",
       "    <caption>노무현 노래</caption>\n",
       "    <thead>\n",
       "    <tr>\n",
       "        <th>듀앳</th>\n",
       "        <th>솔로</th>\n",
       "    </tr>\n",
       "    </thead>\n",
       "    <tbody>\n",
       "    <tr>\n",
       "        <th>잔소리</th>\n",
       "        <th>응디언보이</th>\n",
       "    </tr>\n",
       "    </tbody>\n",
       "</table>\n"
      ],
      "text/plain": [
       "<IPython.core.display.HTML object>"
      ]
     },
     "metadata": {},
     "output_type": "display_data"
    }
   ],
   "source": [
    "%%html\n",
    "<table>\n",
    "    <caption>노무현 노래</caption>\n",
    "    <thead>\n",
    "    <tr>\n",
    "        <th>듀앳</th>\n",
    "        <th>솔로</th>\n",
    "    </tr>\n",
    "    </thead>\n",
    "    <tbody>\n",
    "    <tr>\n",
    "        <th>잔소리</th>\n",
    "        <th>응디언보이</th>\n",
    "    </tr>\n",
    "    </tbody>\n",
    "</table>"
   ]
  },
  {
   "cell_type": "code",
   "execution_count": null,
   "id": "e3c4711d-65e6-4757-b341-7d74f860e676",
   "metadata": {},
   "outputs": [],
   "source": [
    "# 부동 소수점 에러"
   ]
  },
  {
   "cell_type": "code",
   "execution_count": 16,
   "id": "c73b2fb6-8d82-4f81-80b4-c844810cebf0",
   "metadata": {},
   "outputs": [
    {
     "name": "stdout",
     "output_type": "stream",
     "text": [
      "0.1 0.2\n"
     ]
    }
   ],
   "source": [
    "data1, data2 = 0.1,0.2\n",
    "print(data1,data2)"
   ]
  },
  {
   "cell_type": "code",
   "execution_count": 17,
   "id": "bc48db0b-d623-4654-a0d4-90d101e4c55d",
   "metadata": {},
   "outputs": [
    {
     "data": {
      "text/plain": [
       "False"
      ]
     },
     "execution_count": 17,
     "metadata": {},
     "output_type": "execute_result"
    }
   ],
   "source": [
    "(data1+data2)==0.3"
   ]
  },
  {
   "cell_type": "code",
   "execution_count": 18,
   "id": "ce8a75f8-c603-4568-941d-5d5b62bf51d5",
   "metadata": {},
   "outputs": [
    {
     "data": {
      "text/plain": [
       "0.30000000000000004"
      ]
     },
     "execution_count": 18,
     "metadata": {},
     "output_type": "execute_result"
    }
   ],
   "source": [
    "data1+data2"
   ]
  },
  {
   "cell_type": "code",
   "execution_count": 19,
   "id": "f038eac6-43b6-46d2-bbb6-b31bb383a252",
   "metadata": {},
   "outputs": [
    {
     "data": {
      "text/plain": [
       "True"
      ]
     },
     "execution_count": 19,
     "metadata": {},
     "output_type": "execute_result"
    }
   ],
   "source": [
    "#해결방법1: 반올림 사용: round\n",
    "round(data1+data2,1)==0.3"
   ]
  },
  {
   "cell_type": "code",
   "execution_count": 20,
   "id": "243acd63-302f-4b6c-9070-d9a65e2888b2",
   "metadata": {},
   "outputs": [
    {
     "data": {
      "text/plain": [
       "True"
      ]
     },
     "execution_count": 20,
     "metadata": {},
     "output_type": "execute_result"
    }
   ],
   "source": [
    "# 해결방법2: 고정 소수점 방식으로 연산\n",
    "from decimal import Decimal\n",
    "float(Decimal(str(data1))+Decimal(str(data2)))==0.3"
   ]
  },
  {
   "cell_type": "code",
   "execution_count": null,
   "id": "9e9108db-6b61-41b2-80ff-a70a5b76b34a",
   "metadata": {},
   "outputs": [],
   "source": []
  },
  {
   "cell_type": "code",
   "execution_count": null,
   "id": "9ffed4e2-f796-4d00-a793-d53f7adee1a3",
   "metadata": {},
   "outputs": [],
   "source": []
  },
  {
   "cell_type": "code",
   "execution_count": null,
   "id": "4e54f402-4162-41a9-9a64-19f0600764f6",
   "metadata": {},
   "outputs": [],
   "source": []
  },
  {
   "cell_type": "code",
   "execution_count": null,
   "id": "82f91840-fe94-4698-b926-33b79539e1e7",
   "metadata": {},
   "outputs": [],
   "source": []
  }
 ],
 "metadata": {
  "kernelspec": {
   "display_name": "Python 3",
   "language": "python",
   "name": "python3"
  },
  "language_info": {
   "codemirror_mode": {
    "name": "ipython",
    "version": 3
   },
   "file_extension": ".py",
   "mimetype": "text/x-python",
   "name": "python",
   "nbconvert_exporter": "python",
   "pygments_lexer": "ipython3",
   "version": "3.8.8"
  }
 },
 "nbformat": 4,
 "nbformat_minor": 5
}
