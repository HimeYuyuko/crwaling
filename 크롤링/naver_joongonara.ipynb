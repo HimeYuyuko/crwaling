{
 "cells": [
  {
   "cell_type": "markdown",
   "id": "a5852073-d68a-409e-9c60-f57057e995ce",
   "metadata": {},
   "source": [
    "### 네이버 중고나라 게시글 데이터 수집\n",
    "-selenium에서 iframe에 있는 데이터 수집\n",
    "-url :https://cafe.naver.com/joonggonara"
   ]
  },
  {
   "cell_type": "code",
   "execution_count": 2,
   "id": "fbaf679a-c92f-4a03-93c0-0efc9d747fb4",
   "metadata": {},
   "outputs": [],
   "source": [
    "from selenium import webdriver\n",
    "from selenium.webdriver.common.by import By"
   ]
  },
  {
   "cell_type": "code",
   "execution_count": 1,
   "id": "5b5cd585-6bdb-4553-a8f1-b401155f8ea3",
   "metadata": {},
   "outputs": [],
   "source": [
    "url =\"https://cafe.naver.com/joonggonara\""
   ]
  },
  {
   "cell_type": "code",
   "execution_count": null,
   "id": "54c31420-7c04-495d-93cf-07f88760e880",
   "metadata": {},
   "outputs": [],
   "source": [
    "# 1.웹브라우저 열기 및 페이지 이동"
   ]
  },
  {
   "cell_type": "code",
   "execution_count": 4,
   "id": "ae8a015c-2b8a-49df-b0ee-e6192dcfb5a5",
   "metadata": {},
   "outputs": [],
   "source": [
    "driver = webdriver.Chrome()\n",
    "driver.get(url)"
   ]
  },
  {
   "cell_type": "code",
   "execution_count": 22,
   "id": "e60c8a5c-0dd4-417c-8b9b-019aba181483",
   "metadata": {},
   "outputs": [],
   "source": [
    "import time"
   ]
  },
  {
   "cell_type": "code",
   "execution_count": 23,
   "id": "9bd30bca-8108-429e-a834-acb2f1c3be02",
   "metadata": {},
   "outputs": [
    {
     "name": "stdout",
     "output_type": "stream",
     "text": [
      "1\n",
      "2\n"
     ]
    }
   ],
   "source": [
    "print(1)\n",
    "time.sleep(3)\n",
    "print(2)"
   ]
  },
  {
   "cell_type": "code",
   "execution_count": null,
   "id": "7ae9fb5a-9a39-4837-bd19-4ea0d51cec02",
   "metadata": {},
   "outputs": [],
   "source": [
    "# 2.검색창에 건프라 입력하고 검색 버튼 클릭"
   ]
  },
  {
   "cell_type": "code",
   "execution_count": 5,
   "id": "164361b1-3662-430a-a13d-971686ccd4f7",
   "metadata": {},
   "outputs": [],
   "source": [
    "#topLayerQueryInput\n",
    "keyword='건프라'\n",
    "driver.find_element(By.CSS_SELECTOR,\"#topLayerQueryInput\").send_keys(keyword)"
   ]
  },
  {
   "cell_type": "code",
   "execution_count": 7,
   "id": "17992b68-6366-4a5a-a808-2a762d9bd477",
   "metadata": {},
   "outputs": [],
   "source": [
    "driver.execute_script(\"searchBoard();\")"
   ]
  },
  {
   "cell_type": "code",
   "execution_count": null,
   "id": "15ba226e-5960-417b-bcba-d2c4fc8ff89e",
   "metadata": {},
   "outputs": [],
   "source": [
    "# 3. 게시글 목록 데이터 수집"
   ]
  },
  {
   "cell_type": "code",
   "execution_count": 8,
   "id": "3ede85e9-2a82-4b06-94bb-a41665d2705c",
   "metadata": {},
   "outputs": [
    {
     "data": {
      "text/plain": [
       "0"
      ]
     },
     "execution_count": 8,
     "metadata": {},
     "output_type": "execute_result"
    }
   ],
   "source": [
    "selector='.article-board > table> tbody>tr'\n",
    "elements = driver.find_elements(By.CSS_SELECTOR,selector)\n",
    "len(elements)"
   ]
  },
  {
   "cell_type": "code",
   "execution_count": 10,
   "id": "4dec67b7-aaef-45e3-ad43-3e2e918778cf",
   "metadata": {},
   "outputs": [
    {
     "data": {
      "text/plain": [
       "<selenium.webdriver.remote.webelement.WebElement (session=\"4e21e742c1e9682132ff3bfa32aa3b74\", element=\"4668b7c0-d052-4c1b-9240-3317f0e0a705\")>"
      ]
     },
     "execution_count": 10,
     "metadata": {},
     "output_type": "execute_result"
    }
   ],
   "source": [
    "# ifame으로 driver \n",
    "iframe = driver.find_element(By.CSS_SELECTOR,\"#cafe_main\")\n",
    "iframe"
   ]
  },
  {
   "cell_type": "code",
   "execution_count": 12,
   "id": "554eb503-27cc-4d61-9041-49a9d022c80e",
   "metadata": {},
   "outputs": [],
   "source": [
    "driver.switch_to.frame(iframe)"
   ]
  },
  {
   "cell_type": "code",
   "execution_count": 13,
   "id": "c926d648-2e0b-431a-9709-9d15a26ff38e",
   "metadata": {},
   "outputs": [
    {
     "data": {
      "text/plain": [
       "15"
      ]
     },
     "execution_count": 13,
     "metadata": {},
     "output_type": "execute_result"
    }
   ],
   "source": [
    "selector='.article-board > table> tbody>tr'\n",
    "elements = driver.find_elements(By.CSS_SELECTOR,selector)\n",
    "len(elements)"
   ]
  },
  {
   "cell_type": "code",
   "execution_count": 14,
   "id": "a8b488b1-a53f-40c7-b4f1-46a25963bf58",
   "metadata": {},
   "outputs": [],
   "source": [
    "element = elements[0]"
   ]
  },
  {
   "cell_type": "code",
   "execution_count": 16,
   "id": "bdda19ef-3021-4202-94c0-1b2ae2ecd860",
   "metadata": {},
   "outputs": [
    {
     "data": {
      "text/plain": [
       "('[판매중] 건프라-일반판, 한정판, 엑스포, 건베한정 / 메탈빌드 / 메탈콤포지트 / DX초합금 / 세인트세이야-구판, EX', '마루')"
      ]
     },
     "execution_count": 16,
     "metadata": {},
     "output_type": "execute_result"
    }
   ],
   "source": [
    "title=element.find_element(By.CSS_SELECTOR,'.article').text\n",
    "writer=element.find_element(By.CSS_SELECTOR,'.p-nick').text\n",
    "title,writer"
   ]
  },
  {
   "cell_type": "code",
   "execution_count": 21,
   "id": "bd14bc43-cef8-423d-b817-36e2688304dc",
   "metadata": {},
   "outputs": [
    {
     "data": {
      "text/html": [
       "<div>\n",
       "<style scoped>\n",
       "    .dataframe tbody tr th:only-of-type {\n",
       "        vertical-align: middle;\n",
       "    }\n",
       "\n",
       "    .dataframe tbody tr th {\n",
       "        vertical-align: top;\n",
       "    }\n",
       "\n",
       "    .dataframe thead th {\n",
       "        text-align: right;\n",
       "    }\n",
       "</style>\n",
       "<table border=\"1\" class=\"dataframe\">\n",
       "  <thead>\n",
       "    <tr style=\"text-align: right;\">\n",
       "      <th></th>\n",
       "      <th>title</th>\n",
       "      <th>writer</th>\n",
       "    </tr>\n",
       "  </thead>\n",
       "  <tbody>\n",
       "    <tr>\n",
       "      <th>13</th>\n",
       "      <td>pg.건담.건프라.가조.순조.도색작.</td>\n",
       "      <td>정답은있다</td>\n",
       "    </tr>\n",
       "    <tr>\n",
       "      <th>14</th>\n",
       "      <td>Hg 나이팅게일 건담 건프라</td>\n",
       "      <td>원자왕</td>\n",
       "    </tr>\n",
       "  </tbody>\n",
       "</table>\n",
       "</div>"
      ],
      "text/plain": [
       "                   title writer\n",
       "13  pg.건담.건프라.가조.순조.도색작.  정답은있다\n",
       "14       Hg 나이팅게일 건담 건프라    원자왕"
      ]
     },
     "execution_count": 21,
     "metadata": {},
     "output_type": "execute_result"
    }
   ],
   "source": [
    "data= []\n",
    "for element in elements:\n",
    "    data.append({\n",
    "        \"title\":element.find_element(By.CSS_SELECTOR,'.article').text,\n",
    "        \"writer\":element.find_element(By.CSS_SELECTOR,'.p-nick').text\n",
    "    })\n",
    "df=pd.DataFrame(data)\n",
    "df.tail(2)"
   ]
  },
  {
   "cell_type": "code",
   "execution_count": null,
   "id": "5f3b5d41-599c-449d-a0e2-f10aa0dd1ff5",
   "metadata": {},
   "outputs": [],
   "source": [
    "# 원래 있는 default frame으로 이동\n",
    "#driver.switch_to.default_content()"
   ]
  },
  {
   "cell_type": "code",
   "execution_count": null,
   "id": "d28a35a4-90f6-4fac-b6ec-5a02f865540c",
   "metadata": {},
   "outputs": [],
   "source": []
  },
  {
   "cell_type": "code",
   "execution_count": null,
   "id": "5ae110a9-9518-4a9d-b272-c923ec5322ac",
   "metadata": {},
   "outputs": [],
   "source": []
  },
  {
   "cell_type": "code",
   "execution_count": null,
   "id": "32995496-ea42-4ac5-9228-77c5e93f5326",
   "metadata": {},
   "outputs": [],
   "source": [
    "# 4.웹 브라우저 종료"
   ]
  },
  {
   "cell_type": "code",
   "execution_count": 24,
   "id": "f8a4861b-7fe8-42b8-ad01-ac9d7eade11f",
   "metadata": {},
   "outputs": [],
   "source": [
    "driver.quit()"
   ]
  },
  {
   "cell_type": "code",
   "execution_count": null,
   "id": "f0a6d488-2e40-4c86-95a3-e3587359960e",
   "metadata": {},
   "outputs": [],
   "source": []
  },
  {
   "cell_type": "code",
   "execution_count": null,
   "id": "846b63d9-30b0-4424-93a8-66329899fbcc",
   "metadata": {},
   "outputs": [],
   "source": []
  },
  {
   "cell_type": "code",
   "execution_count": null,
   "id": "397a9dec-194e-4f13-a148-367418bd9e67",
   "metadata": {},
   "outputs": [],
   "source": []
  },
  {
   "cell_type": "code",
   "execution_count": null,
   "id": "940e5f7a-2900-49b5-a2c1-d4105a419929",
   "metadata": {},
   "outputs": [],
   "source": []
  },
  {
   "cell_type": "code",
   "execution_count": null,
   "id": "c7259fed-b6f8-4462-94ff-ac5aae8757cf",
   "metadata": {},
   "outputs": [],
   "source": []
  },
  {
   "cell_type": "code",
   "execution_count": null,
   "id": "8d55eba6-de3d-44c3-a16a-45f76f13af89",
   "metadata": {},
   "outputs": [],
   "source": []
  },
  {
   "cell_type": "code",
   "execution_count": null,
   "id": "ef9c2c38-9a3f-4f26-a594-1be7a61e5329",
   "metadata": {},
   "outputs": [],
   "source": []
  },
  {
   "cell_type": "code",
   "execution_count": null,
   "id": "59a8db1b-9a34-453f-a63b-3dcf854f0066",
   "metadata": {},
   "outputs": [],
   "source": []
  },
  {
   "cell_type": "code",
   "execution_count": null,
   "id": "d5e74806-9efa-4dbb-bac9-b1886aa7ec29",
   "metadata": {},
   "outputs": [],
   "source": []
  },
  {
   "cell_type": "code",
   "execution_count": null,
   "id": "38f9d133-fecc-4d1a-bbb9-127b8349df7d",
   "metadata": {},
   "outputs": [],
   "source": []
  },
  {
   "cell_type": "code",
   "execution_count": null,
   "id": "f14a4336-2752-4bd7-a53b-745cc05ef168",
   "metadata": {},
   "outputs": [],
   "source": []
  },
  {
   "cell_type": "code",
   "execution_count": null,
   "id": "a650962f-095c-44f1-affe-ffe682da422b",
   "metadata": {},
   "outputs": [],
   "source": []
  },
  {
   "cell_type": "code",
   "execution_count": null,
   "id": "b9253008-bdd0-4d6e-91ec-58dd11bac9b3",
   "metadata": {},
   "outputs": [],
   "source": []
  },
  {
   "cell_type": "code",
   "execution_count": null,
   "id": "a911ec14-fbd4-4c2f-ad6b-dcd3c9a1d26a",
   "metadata": {},
   "outputs": [],
   "source": []
  }
 ],
 "metadata": {
  "kernelspec": {
   "display_name": "Python 3",
   "language": "python",
   "name": "python3"
  },
  "language_info": {
   "codemirror_mode": {
    "name": "ipython",
    "version": 3
   },
   "file_extension": ".py",
   "mimetype": "text/x-python",
   "name": "python",
   "nbconvert_exporter": "python",
   "pygments_lexer": "ipython3",
   "version": "3.8.8"
  }
 },
 "nbformat": 4,
 "nbformat_minor": 5
}
