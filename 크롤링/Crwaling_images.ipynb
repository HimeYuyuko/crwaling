{
 "cells": [
  {
   "cell_type": "code",
   "execution_count": 1,
   "id": "73624123-8461-4927-b8fc-37c29e9bc5ca",
   "metadata": {},
   "outputs": [
    {
     "name": "stdout",
     "output_type": "stream",
     "text": [
      " C 드라이브의 볼륨에는 이름이 없습니다.\n",
      " 볼륨 일련 번호: 7C6C-FC35\n",
      "\n",
      " C:\\Users\\User\\Desktop\\python\\크롤링 디렉터리\n",
      "\n",
      "2022-08-05  오전 09:58    <DIR>          .\n",
      "2022-08-05  오전 09:58    <DIR>          ..\n",
      "2022-08-05  오전 09:41    <DIR>          .ipynb_checkpoints\n",
      "2022-08-04  오후 04:24             8,848 bs4.ipynb\n",
      "2022-08-03  오후 04:44            10,060 covid.xlsx\n",
      "2022-08-04  오전 09:23             6,168 covid_jp.xlsx\n",
      "2022-08-03  오전 11:32             5,168 Crwaling Naver Stock Datas.ipynb\n",
      "2022-08-05  오전 09:43             9,569 Crwaling_images.ipynb\n",
      "2022-08-04  오후 04:02             8,593 css_selector.ipynb\n",
      "2022-08-03  오전 09:58    <DIR>          day1-20220803T002955Z-001\n",
      "2022-08-05  오전 09:38    <DIR>          day2-20220805T003755Z-001\n",
      "2022-08-03  오후 02:42         3,368,871 drive-download-20220803T054159Z-001.zip\n",
      "2022-08-04  오후 02:14            13,461 Duam Exchange.ipynb\n",
      "2022-08-05  오전 09:58            31,275 gmarket.csv\n",
      "2022-08-04  오후 05:07            10,973 gmarket.ipynb\n",
      "2022-08-04  오후 03:12            10,852 html.ipynb\n",
      "2022-08-04  오전 11:07            60,380 Naver_api2.ipynb\n",
      "2022-08-04  오전 11:12            48,496 Request json.ipynb\n",
      "2022-08-04  오후 02:14            21,554 requests_api.ipynb\n",
      "2022-08-04  오후 12:17            43,323 ZigBang.ipynb\n",
      "              15개 파일           3,657,591 바이트\n",
      "               5개 디렉터리  132,284,768,256 바이트 남음\n"
     ]
    }
   ],
   "source": [
    "%ls"
   ]
  },
  {
   "cell_type": "code",
   "execution_count": 2,
   "id": "0107a677-dc04-411c-8ad1-c4cd4ee2f7ea",
   "metadata": {},
   "outputs": [],
   "source": [
    "import pandas as pd\n",
    "import requests, os"
   ]
  },
  {
   "cell_type": "code",
   "execution_count": null,
   "id": "7a0dde24-a122-423d-a5d9-a7172d75e9f0",
   "metadata": {},
   "outputs": [],
   "source": [
    "# 1. 디렉토리 생성"
   ]
  },
  {
   "cell_type": "code",
   "execution_count": 3,
   "id": "fa208d47-a29c-438e-8787-a98cc662795c",
   "metadata": {},
   "outputs": [
    {
     "data": {
      "text/plain": [
       "False"
      ]
     },
     "execution_count": 3,
     "metadata": {},
     "output_type": "execute_result"
    }
   ],
   "source": [
    "os.path.exists('data') #현재 디렉토리 존재 유무 확인"
   ]
  },
  {
   "cell_type": "code",
   "execution_count": 6,
   "id": "bc941a45-e5c2-4915-85d7-a1afdf2eebeb",
   "metadata": {},
   "outputs": [],
   "source": [
    "path = \"data\"\n",
    "if not os.path.exists(path):\n",
    "    os.makedirs(path)"
   ]
  },
  {
   "cell_type": "code",
   "execution_count": 5,
   "id": "1a4e2cd5-eb5c-427b-9b8c-14fd5074bafe",
   "metadata": {},
   "outputs": [
    {
     "data": {
      "text/plain": [
       "True"
      ]
     },
     "execution_count": 5,
     "metadata": {},
     "output_type": "execute_result"
    }
   ],
   "source": [
    "os.path.exists('data') #현재 디렉토리 존재 유무 확인"
   ]
  },
  {
   "cell_type": "code",
   "execution_count": null,
   "id": "96e605b1-bbad-45cb-9bb2-cf3ed27225b0",
   "metadata": {},
   "outputs": [],
   "source": [
    "# 2. CSV 파일 로드"
   ]
  },
  {
   "cell_type": "code",
   "execution_count": 8,
   "id": "48e71f42-06b9-4912-827b-1cd3f1473492",
   "metadata": {},
   "outputs": [
    {
     "data": {
      "text/html": [
       "<div>\n",
       "<style scoped>\n",
       "    .dataframe tbody tr th:only-of-type {\n",
       "        vertical-align: middle;\n",
       "    }\n",
       "\n",
       "    .dataframe tbody tr th {\n",
       "        vertical-align: top;\n",
       "    }\n",
       "\n",
       "    .dataframe thead th {\n",
       "        text-align: right;\n",
       "    }\n",
       "</style>\n",
       "<table border=\"1\" class=\"dataframe\">\n",
       "  <thead>\n",
       "    <tr style=\"text-align: right;\">\n",
       "      <th></th>\n",
       "      <th>title</th>\n",
       "      <th>o_price</th>\n",
       "      <th>s_price</th>\n",
       "      <th>img</th>\n",
       "    </tr>\n",
       "  </thead>\n",
       "  <tbody>\n",
       "    <tr>\n",
       "      <th>198</th>\n",
       "      <td>[미래생활]순수PURE천연펄프 25m 30롤 x 3팩 휴지</td>\n",
       "      <td>31,900원</td>\n",
       "      <td>28,900원</td>\n",
       "      <td>http://gdimg.gmarket.co.kr/1899274105/still/30...</td>\n",
       "    </tr>\n",
       "    <tr>\n",
       "      <th>199</th>\n",
       "      <td>탑모델 여름신상 BEST 특가+10%쿠폰</td>\n",
       "      <td>32,900원</td>\n",
       "      <td>9,900원</td>\n",
       "      <td>http://gdimg.gmarket.co.kr/1787483503/still/30...</td>\n",
       "    </tr>\n",
       "  </tbody>\n",
       "</table>\n",
       "</div>"
      ],
      "text/plain": [
       "                                title  o_price  s_price  \\\n",
       "198  [미래생활]순수PURE천연펄프 25m 30롤 x 3팩 휴지  31,900원  28,900원   \n",
       "199            탑모델 여름신상 BEST 특가+10%쿠폰  32,900원   9,900원   \n",
       "\n",
       "                                                   img  \n",
       "198  http://gdimg.gmarket.co.kr/1899274105/still/30...  \n",
       "199  http://gdimg.gmarket.co.kr/1787483503/still/30...  "
      ]
     },
     "execution_count": 8,
     "metadata": {},
     "output_type": "execute_result"
    }
   ],
   "source": [
    "df = pd.read_csv(\"gmarket.csv\")\n",
    "df.tail(2)"
   ]
  },
  {
   "cell_type": "code",
   "execution_count": 10,
   "id": "43fd1f3f-4342-49ac-a402-f67694e605b2",
   "metadata": {},
   "outputs": [
    {
     "data": {
      "text/plain": [
       "'http://gdimg.gmarket.co.kr/2266434001/still/300?ver=2022080509'"
      ]
     },
     "execution_count": 10,
     "metadata": {},
     "output_type": "execute_result"
    }
   ],
   "source": [
    "img_link=df.loc[0,'img']\n",
    "img_link"
   ]
  },
  {
   "cell_type": "code",
   "execution_count": null,
   "id": "e2bb2ab6-8423-40c8-b2d8-85df4ce6c560",
   "metadata": {},
   "outputs": [],
   "source": [
    "# 3. download images"
   ]
  },
  {
   "cell_type": "code",
   "execution_count": 11,
   "id": "ad8bd277-e167-4b5b-8fe8-b6329a8ed901",
   "metadata": {},
   "outputs": [
    {
     "data": {
      "text/plain": [
       "<Response [200]>"
      ]
     },
     "execution_count": 11,
     "metadata": {},
     "output_type": "execute_result"
    }
   ],
   "source": [
    "response = requests.get(img_link)\n",
    "response"
   ]
  },
  {
   "cell_type": "code",
   "execution_count": 12,
   "id": "d7bfbd7c-32bb-4e6c-ad06-3094cdce185e",
   "metadata": {},
   "outputs": [],
   "source": [
    "with open(f'{path}/test.png','wb') as file:\n",
    "    file.write(response.content)"
   ]
  },
  {
   "cell_type": "code",
   "execution_count": null,
   "id": "d248d18f-39c6-4b98-9791-44e4ade94def",
   "metadata": {},
   "outputs": [],
   "source": [
    "# 4. display image"
   ]
  },
  {
   "cell_type": "code",
   "execution_count": 14,
   "id": "e3a842ea-6cec-46ba-9e0d-8be74c9c1434",
   "metadata": {},
   "outputs": [],
   "source": [
    "from PIL import Image as pil"
   ]
  },
  {
   "cell_type": "code",
   "execution_count": 22,
   "id": "b10e2717-ade9-4e5d-bfa3-fcd9724a58a5",
   "metadata": {},
   "outputs": [
    {
     "data": {
      "image/png": "[encoded data removed]",
      "text/plain": [
       "<PIL.JpegImagePlugin.JpegImageFile image mode=RGB size=300x300 at 0x1F355B9B8B0>"
      ]
     },
     "execution_count": 22,
     "metadata": {},
     "output_type": "execute_result"
    }
   ],
   "source": [
    "pil.open(f'{path}/004')"
   ]
  },
  {
   "cell_type": "code",
   "execution_count": null,
   "id": "5b7f4b89-b133-4195-88b2-f6de56ba0f4a",
   "metadata": {},
   "outputs": [],
   "source": [
    "# 5. 여러개의 이미지 다운로드"
   ]
  },
  {
   "cell_type": "code",
   "execution_count": 17,
   "id": "77762364-127c-46fb-b892-378b290b9147",
   "metadata": {},
   "outputs": [
    {
     "data": {
      "text/html": [
       "<div>\n",
       "<style scoped>\n",
       "    .dataframe tbody tr th:only-of-type {\n",
       "        vertical-align: middle;\n",
       "    }\n",
       "\n",
       "    .dataframe tbody tr th {\n",
       "        vertical-align: top;\n",
       "    }\n",
       "\n",
       "    .dataframe thead th {\n",
       "        text-align: right;\n",
       "    }\n",
       "</style>\n",
       "<table border=\"1\" class=\"dataframe\">\n",
       "  <thead>\n",
       "    <tr style=\"text-align: right;\">\n",
       "      <th></th>\n",
       "      <th>title</th>\n",
       "      <th>o_price</th>\n",
       "      <th>s_price</th>\n",
       "      <th>img</th>\n",
       "    </tr>\n",
       "  </thead>\n",
       "  <tbody>\n",
       "    <tr>\n",
       "      <th>0</th>\n",
       "      <td>3900원 균일가 시즌오프 블라우스/티셔츠/원피스/팬츠 外</td>\n",
       "      <td>13,000원</td>\n",
       "      <td>3,900원</td>\n",
       "      <td>http://gdimg.gmarket.co.kr/2266434001/still/30...</td>\n",
       "    </tr>\n",
       "    <tr>\n",
       "      <th>1</th>\n",
       "      <td>청정우 양지 300gX3팩</td>\n",
       "      <td>31,800원</td>\n",
       "      <td>15,900원</td>\n",
       "      <td>http://gdimg.gmarket.co.kr/1587075039/still/30...</td>\n",
       "    </tr>\n",
       "    <tr>\n",
       "      <th>2</th>\n",
       "      <td>[한상궁김치]한상궁김치 국산 겉절이 2kg 출고당일생산</td>\n",
       "      <td>NaN</td>\n",
       "      <td>15,900원</td>\n",
       "      <td>http://gdimg.gmarket.co.kr/1798110680/still/30...</td>\n",
       "    </tr>\n",
       "    <tr>\n",
       "      <th>3</th>\n",
       "      <td>[키스포]12%쿠폰 아동 주니어 여름 클리어런스+가을 프리뷰 모음전</td>\n",
       "      <td>22,000원</td>\n",
       "      <td>6,600원</td>\n",
       "      <td>http://gdimg.gmarket.co.kr/336394693/still/300...</td>\n",
       "    </tr>\n",
       "    <tr>\n",
       "      <th>4</th>\n",
       "      <td>DCOVERS/디커버스/반팔티/티셔츠/여성/남자/빅사이즈</td>\n",
       "      <td>26,300원</td>\n",
       "      <td>7,900원</td>\n",
       "      <td>http://gdimg.gmarket.co.kr/2514963907/still/30...</td>\n",
       "    </tr>\n",
       "    <tr>\n",
       "      <th>...</th>\n",
       "      <td>...</td>\n",
       "      <td>...</td>\n",
       "      <td>...</td>\n",
       "      <td>...</td>\n",
       "    </tr>\n",
       "    <tr>\n",
       "      <th>195</th>\n",
       "      <td>[게스]누구나 22% 게스 여름 티셔츠/데님 파이널 세일</td>\n",
       "      <td>56,000원</td>\n",
       "      <td>17,000원</td>\n",
       "      <td>http://gdimg.gmarket.co.kr/1829738400/still/30...</td>\n",
       "    </tr>\n",
       "    <tr>\n",
       "      <th>196</th>\n",
       "      <td>[스파클]스파클생수 2L 30병</td>\n",
       "      <td>NaN</td>\n",
       "      <td>15,900원</td>\n",
       "      <td>http://gdimg.gmarket.co.kr/2007982106/still/30...</td>\n",
       "    </tr>\n",
       "    <tr>\n",
       "      <th>197</th>\n",
       "      <td>[G7]베트남 G7 블랙 2g x 200입 (무료배송+랜덤 사은품)</td>\n",
       "      <td>19,900원</td>\n",
       "      <td>13,500원</td>\n",
       "      <td>http://gdimg.gmarket.co.kr/1692723853/still/30...</td>\n",
       "    </tr>\n",
       "    <tr>\n",
       "      <th>198</th>\n",
       "      <td>[미래생활]순수PURE천연펄프 25m 30롤 x 3팩 휴지</td>\n",
       "      <td>31,900원</td>\n",
       "      <td>28,900원</td>\n",
       "      <td>http://gdimg.gmarket.co.kr/1899274105/still/30...</td>\n",
       "    </tr>\n",
       "    <tr>\n",
       "      <th>199</th>\n",
       "      <td>탑모델 여름신상 BEST 특가+10%쿠폰</td>\n",
       "      <td>32,900원</td>\n",
       "      <td>9,900원</td>\n",
       "      <td>http://gdimg.gmarket.co.kr/1787483503/still/30...</td>\n",
       "    </tr>\n",
       "  </tbody>\n",
       "</table>\n",
       "<p>200 rows × 4 columns</p>\n",
       "</div>"
      ],
      "text/plain": [
       "                                     title  o_price  s_price  \\\n",
       "0         3900원 균일가 시즌오프 블라우스/티셔츠/원피스/팬츠 外  13,000원   3,900원   \n",
       "1                           청정우 양지 300gX3팩  31,800원  15,900원   \n",
       "2           [한상궁김치]한상궁김치 국산 겉절이 2kg 출고당일생산      NaN  15,900원   \n",
       "3    [키스포]12%쿠폰 아동 주니어 여름 클리어런스+가을 프리뷰 모음전  22,000원   6,600원   \n",
       "4          DCOVERS/디커버스/반팔티/티셔츠/여성/남자/빅사이즈  26,300원   7,900원   \n",
       "..                                     ...      ...      ...   \n",
       "195        [게스]누구나 22% 게스 여름 티셔츠/데님 파이널 세일  56,000원  17,000원   \n",
       "196                      [스파클]스파클생수 2L 30병      NaN  15,900원   \n",
       "197  [G7]베트남 G7 블랙 2g x 200입 (무료배송+랜덤 사은품)  19,900원  13,500원   \n",
       "198       [미래생활]순수PURE천연펄프 25m 30롤 x 3팩 휴지  31,900원  28,900원   \n",
       "199                 탑모델 여름신상 BEST 특가+10%쿠폰  32,900원   9,900원   \n",
       "\n",
       "                                                   img  \n",
       "0    http://gdimg.gmarket.co.kr/2266434001/still/30...  \n",
       "1    http://gdimg.gmarket.co.kr/1587075039/still/30...  \n",
       "2    http://gdimg.gmarket.co.kr/1798110680/still/30...  \n",
       "3    http://gdimg.gmarket.co.kr/336394693/still/300...  \n",
       "4    http://gdimg.gmarket.co.kr/2514963907/still/30...  \n",
       "..                                                 ...  \n",
       "195  http://gdimg.gmarket.co.kr/1829738400/still/30...  \n",
       "196  http://gdimg.gmarket.co.kr/2007982106/still/30...  \n",
       "197  http://gdimg.gmarket.co.kr/1692723853/still/30...  \n",
       "198  http://gdimg.gmarket.co.kr/1899274105/still/30...  \n",
       "199  http://gdimg.gmarket.co.kr/1787483503/still/30...  \n",
       "\n",
       "[200 rows x 4 columns]"
      ]
     },
     "execution_count": 17,
     "metadata": {},
     "output_type": "execute_result"
    }
   ],
   "source": [
    "df"
   ]
  },
  {
   "cell_type": "code",
   "execution_count": 20,
   "id": "b667a950-6eb9-4009-a906-beb3cf1b0905",
   "metadata": {},
   "outputs": [
    {
     "name": "stdout",
     "output_type": "stream",
     "text": [
      "0 000 http://gdimg.gmarket.co.kr/2266434001/still/300?ver=2022080509\n",
      "1 001 http://gdimg.gmarket.co.kr/1587075039/still/300?ver=2022080509\n",
      "2 002 http://gdimg.gmarket.co.kr/1798110680/still/300?ver=2022080509\n",
      "3 003 http://gdimg.gmarket.co.kr/336394693/still/300?ver=2022080509\n",
      "4 004 http://gdimg.gmarket.co.kr/2514963907/still/300?ver=2022080509\n"
     ]
    }
   ],
   "source": [
    "for idx,data in df[:5].iterrows():\n",
    "    filename = '0'*(3-len(str(idx)))+str(idx)\n",
    "    print(idx,filename,data['img'])\n",
    "    response = requests.get(data['img'])\n",
    "    with open(f'{path}/{filename}','wb') as file:\n",
    "        file.write(response.content)"
   ]
  },
  {
   "cell_type": "code",
   "execution_count": null,
   "id": "2eb956d8-c569-4a92-84d7-61d66833e4a4",
   "metadata": {},
   "outputs": [],
   "source": [
    "# setting startup file"
   ]
  },
  {
   "cell_type": "code",
   "execution_count": null,
   "id": "08810c88-270d-408c-96c1-143910ecdfba",
   "metadata": {},
   "outputs": [],
   "source": [
    "# 1. make ipython pro file"
   ]
  },
  {
   "cell_type": "code",
   "execution_count": 23,
   "id": "8aac5635-646c-43d1-8a7a-74f868cef4b1",
   "metadata": {},
   "outputs": [
    {
     "name": "stderr",
     "output_type": "stream",
     "text": [
      "[ProfileCreate] Generating default config file: 'C:\\\\Users\\\\User\\\\.ipython\\\\profile_default\\\\ipython_config.py'\n",
      "[ProfileCreate] Generating default config file: 'C:\\\\Users\\\\User\\\\.ipython\\\\profile_default\\\\ipython_kernel_config.py'\n"
     ]
    }
   ],
   "source": [
    "!ipython profile create"
   ]
  },
  {
   "cell_type": "code",
   "execution_count": null,
   "id": "c22209a4-bb09-40a6-bf26-b95b1743e459",
   "metadata": {},
   "outputs": [],
   "source": [
    "# 2. make.py file in startup directory"
   ]
  },
  {
   "cell_type": "code",
   "execution_count": null,
   "id": "b44e5a21-6f92-4dab-8114-39943f94c3c6",
   "metadata": {},
   "outputs": [],
   "source": [
    "# %1개는 한줄만 %%는 밑에도 해야하니깐"
   ]
  },
  {
   "cell_type": "code",
   "execution_count": 25,
   "id": "584322e9-d593-46cd-99c5-f8fd30872e22",
   "metadata": {},
   "outputs": [
    {
     "name": "stdout",
     "output_type": "stream",
     "text": [
      " C 드라이브의 볼륨에는 이름이 없습니다.\n",
      " 볼륨 일련 번호: 7C6C-FC35\n",
      "\n",
      " C:\\Users\\User\\.ipython\\profile_default\\startup 디렉터리\n",
      "\n",
      "2022-08-01  오전 10:02    <DIR>          .\n",
      "2022-08-01  오전 10:02    <DIR>          ..\n",
      "2022-08-01  오전 10:02               371 README\n",
      "               1개 파일                 371 바이트\n",
      "               2개 디렉터리  132,294,381,568 바이트 남음\n"
     ]
    }
   ],
   "source": [
    "!dir C:\\Users\\User\\.ipython\\profile_default\\startup"
   ]
  },
  {
   "cell_type": "code",
   "execution_count": 26,
   "id": "37a7b353-3253-4c0c-8f11-35093be2897b",
   "metadata": {},
   "outputs": [],
   "source": [
    "# %load C:\\Users\\User\\.ipython\\profile_default\\startup\\README\n",
    "This is the IPython startup directory\n",
    "\n",
    ".py and .ipy files in this directory will be run *prior* to any code or files specified\n",
    "via the exec_lines or exec_files configurables whenever you load this profile.\n",
    "\n",
    "Files will be run in lexicographical order, so you can control the execution order of files\n",
    "with a prefix, e.g.::\n",
    "\n",
    "    00-first.py\n",
    "    50-middle.py\n",
    "    99-last.ipy\n"
   ]
  },
  {
   "cell_type": "code",
   "execution_count": 27,
   "id": "bf786986-c697-46d9-9f88-c4f18fd1d863",
   "metadata": {},
   "outputs": [
    {
     "name": "stdout",
     "output_type": "stream",
     "text": [
      "Writing C:\\Users\\User\\.ipython\\profile_default\\startup\\00-first.py\n"
     ]
    }
   ],
   "source": [
    "%%writefile C:\\Users\\User\\.ipython\\profile_default\\startup\\00-first.py\n",
    "import pandas as pd\n",
    "import numpy as np\n",
    "import requests"
   ]
  },
  {
   "cell_type": "code",
   "execution_count": null,
   "id": "2045450e-bf01-46c2-81ae-85afa1fb9f34",
   "metadata": {},
   "outputs": [],
   "source": []
  },
  {
   "cell_type": "code",
   "execution_count": null,
   "id": "7240a37d-5d02-46e9-8ea7-c6f48d97bf86",
   "metadata": {},
   "outputs": [],
   "source": []
  },
  {
   "cell_type": "code",
   "execution_count": null,
   "id": "a2c7ec91-85cc-4bc9-97ce-1e6a07685a57",
   "metadata": {},
   "outputs": [],
   "source": []
  },
  {
   "cell_type": "code",
   "execution_count": null,
   "id": "131caa3e-1970-4ee2-8a37-a67622196212",
   "metadata": {},
   "outputs": [],
   "source": []
  },
  {
   "cell_type": "code",
   "execution_count": null,
   "id": "829eca18-56b0-4e94-9b31-e380df98ec04",
   "metadata": {},
   "outputs": [],
   "source": []
  },
  {
   "cell_type": "code",
   "execution_count": null,
   "id": "43d7a613-a24a-4cd2-b018-1b08bdd1fe29",
   "metadata": {},
   "outputs": [],
   "source": []
  },
  {
   "cell_type": "code",
   "execution_count": null,
   "id": "6bcc5b2c-6f80-4165-b9c8-89a0911fa22f",
   "metadata": {},
   "outputs": [],
   "source": []
  },
  {
   "cell_type": "code",
   "execution_count": null,
   "id": "58c310c8-66d8-4608-a257-a49ec43204d0",
   "metadata": {},
   "outputs": [],
   "source": []
  },
  {
   "cell_type": "code",
   "execution_count": null,
   "id": "51631e32-de4a-48d6-bb82-bfa70c7ef575",
   "metadata": {},
   "outputs": [],
   "source": []
  },
  {
   "cell_type": "code",
   "execution_count": null,
   "id": "74d9354c-4c1c-4a25-811e-105d39f919d1",
   "metadata": {},
   "outputs": [],
   "source": []
  },
  {
   "cell_type": "code",
   "execution_count": null,
   "id": "76c56071-018c-41ec-a056-f4dc248a23dc",
   "metadata": {},
   "outputs": [],
   "source": []
  },
  {
   "cell_type": "code",
   "execution_count": null,
   "id": "c98aafa0-f6b4-4573-bf00-025704146bfd",
   "metadata": {},
   "outputs": [],
   "source": []
  },
  {
   "cell_type": "code",
   "execution_count": null,
   "id": "42d26d00-98b1-4b8b-aa10-6db257ad450a",
   "metadata": {},
   "outputs": [],
   "source": []
  },
  {
   "cell_type": "code",
   "execution_count": null,
   "id": "400556d6-9c77-4ad3-9ba9-31af2d51bb07",
   "metadata": {},
   "outputs": [],
   "source": []
  },
  {
   "cell_type": "code",
   "execution_count": null,
   "id": "42c87300-01d0-474f-8e22-70f5e23b4120",
   "metadata": {},
   "outputs": [],
   "source": []
  },
  {
   "cell_type": "code",
   "execution_count": null,
   "id": "cc547853-83bd-4f94-8fc8-a7185d1d6074",
   "metadata": {},
   "outputs": [],
   "source": []
  },
  {
   "cell_type": "code",
   "execution_count": null,
   "id": "0b2822a3-c25e-481b-860d-038832c6da12",
   "metadata": {},
   "outputs": [],
   "source": []
  },
  {
   "cell_type": "code",
   "execution_count": null,
   "id": "0b58a6e5-6cd6-4a4f-8a25-86ebbf1701f1",
   "metadata": {},
   "outputs": [],
   "source": []
  },
  {
   "cell_type": "code",
   "execution_count": null,
   "id": "b93d1370-676f-40fe-b89e-15e79ef0f698",
   "metadata": {},
   "outputs": [],
   "source": []
  },
  {
   "cell_type": "code",
   "execution_count": null,
   "id": "43a5aaaf-984a-406e-b0d0-950c6837d8ac",
   "metadata": {},
   "outputs": [],
   "source": []
  },
  {
   "cell_type": "code",
   "execution_count": null,
   "id": "51d97dbb-0a40-4700-bc57-b88855991580",
   "metadata": {},
   "outputs": [],
   "source": []
  },
  {
   "cell_type": "code",
   "execution_count": null,
   "id": "a681331f-5f76-4121-8c6e-4dba999c62d3",
   "metadata": {},
   "outputs": [],
   "source": []
  },
  {
   "cell_type": "code",
   "execution_count": null,
   "id": "b45bfda4-6343-4619-92f5-5e4415dc9e9b",
   "metadata": {},
   "outputs": [],
   "source": []
  },
  {
   "cell_type": "code",
   "execution_count": null,
   "id": "e8ab6cb6-72de-4d57-ab44-ea55d0e0d6b2",
   "metadata": {},
   "outputs": [],
   "source": []
  },
  {
   "cell_type": "code",
   "execution_count": null,
   "id": "680b9581-1638-4ecf-b7de-a1bf81e94a6d",
   "metadata": {},
   "outputs": [],
   "source": []
  },
  {
   "cell_type": "code",
   "execution_count": null,
   "id": "d52b86ad-ff36-43fc-8bab-34cdccf5825b",
   "metadata": {},
   "outputs": [],
   "source": []
  },
  {
   "cell_type": "code",
   "execution_count": null,
   "id": "6ef5459b-5cb5-48a5-bd7e-e99865d60de3",
   "metadata": {},
   "outputs": [],
   "source": []
  },
  {
   "cell_type": "code",
   "execution_count": null,
   "id": "17890cde-b7b6-4f87-baf2-d4521827c911",
   "metadata": {},
   "outputs": [],
   "source": []
  },
  {
   "cell_type": "code",
   "execution_count": null,
   "id": "e2105e29-4849-4cb1-8f25-e6e4370c4794",
   "metadata": {},
   "outputs": [],
   "source": []
  },
  {
   "cell_type": "code",
   "execution_count": null,
   "id": "98eea693-0735-4cf9-8161-809de7a8557d",
   "metadata": {},
   "outputs": [],
   "source": []
  },
  {
   "cell_type": "code",
   "execution_count": null,
   "id": "85ca7239-2a97-4929-b491-eb7b24600463",
   "metadata": {},
   "outputs": [],
   "source": []
  },
  {
   "cell_type": "code",
   "execution_count": null,
   "id": "a4a0fae9-fa40-4e55-bc23-16f42f997935",
   "metadata": {},
   "outputs": [],
   "source": []
  },
  {
   "cell_type": "code",
   "execution_count": null,
   "id": "4cf29d7b-e327-4848-84d2-84d3664b1eb7",
   "metadata": {},
   "outputs": [],
   "source": []
  },
  {
   "cell_type": "code",
   "execution_count": null,
   "id": "295c2808-732f-489c-9b60-1081b0115dcf",
   "metadata": {},
   "outputs": [],
   "source": []
  }
 ],
 "metadata": {
  "kernelspec": {
   "display_name": "Python 3",
   "language": "python",
   "name": "python3"
  },
  "language_info": {
   "codemirror_mode": {
    "name": "ipython",
    "version": 3
   },
   "file_extension": ".py",
   "mimetype": "text/x-python",
   "name": "python",
   "nbconvert_exporter": "python",
   "pygments_lexer": "ipython3",
   "version": "3.8.8"
  }
 },
 "nbformat": 4,
 "nbformat_minor": 5
}
